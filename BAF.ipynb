{
 "cells": [
  {
   "cell_type": "code",
   "execution_count": 1,
   "metadata": {
    "_cell_guid": "b1076dfc-b9ad-4769-8c92-a6c4dae69d19",
    "_uuid": "8f2839f25d086af736a60e9eeb907d3b93b6e0e5",
    "execution": {
     "iopub.execute_input": "2025-04-07T09:22:23.233425Z",
     "iopub.status.busy": "2025-04-07T09:22:23.233032Z",
     "iopub.status.idle": "2025-04-07T09:22:23.239141Z",
     "shell.execute_reply": "2025-04-07T09:22:23.238043Z",
     "shell.execute_reply.started": "2025-04-07T09:22:23.233393Z"
    },
    "trusted": true
   },
   "outputs": [],
   "source": [
    "#Library imports\n",
    "import numpy as np\n",
    "import pandas as pd\n",
    "import matplotlib.pyplot as plt\n",
    "import seaborn as sns\n",
    "%matplotlib inline"
   ]
  },
  {
   "cell_type": "code",
   "execution_count": 2,
   "metadata": {
    "execution": {
     "iopub.execute_input": "2025-04-07T09:22:23.637481Z",
     "iopub.status.busy": "2025-04-07T09:22:23.637134Z",
     "iopub.status.idle": "2025-04-07T09:22:23.643488Z",
     "shell.execute_reply": "2025-04-07T09:22:23.642449Z",
     "shell.execute_reply.started": "2025-04-07T09:22:23.637452Z"
    },
    "trusted": true
   },
   "outputs": [
    {
     "name": "stdout",
     "output_type": "stream",
     "text": [
      "Logical cores: 4\n"
     ]
    }
   ],
   "source": [
    "import os\n",
    "\n",
    "print(\"Logical cores:\", os.cpu_count())"
   ]
  },
  {
   "cell_type": "code",
   "execution_count": 3,
   "metadata": {
    "execution": {
     "iopub.execute_input": "2025-04-07T09:22:24.159313Z",
     "iopub.status.busy": "2025-04-07T09:22:24.158924Z",
     "iopub.status.idle": "2025-04-07T09:22:24.164410Z",
     "shell.execute_reply": "2025-04-07T09:22:24.162981Z",
     "shell.execute_reply.started": "2025-04-07T09:22:24.159286Z"
    },
    "trusted": true
   },
   "outputs": [],
   "source": [
    "pd.set_option('display.max_columns', 200)\n",
    "plt.style.use('ggplot')"
   ]
  },
  {
   "cell_type": "code",
   "execution_count": 4,
   "metadata": {
    "execution": {
     "iopub.execute_input": "2025-04-07T09:22:25.055119Z",
     "iopub.status.busy": "2025-04-07T09:22:25.054757Z",
     "iopub.status.idle": "2025-04-07T09:22:25.064558Z",
     "shell.execute_reply": "2025-04-07T09:22:25.063488Z",
     "shell.execute_reply.started": "2025-04-07T09:22:25.055077Z"
    },
    "trusted": true
   },
   "outputs": [
    {
     "data": {
      "text/plain": [
       "['data.csv']"
      ]
     },
     "execution_count": 4,
     "metadata": {},
     "output_type": "execute_result"
    }
   ],
   "source": [
    "import os\n",
    "os.listdir(\"/kaggle/input\")"
   ]
  },
  {
   "cell_type": "code",
   "execution_count": 2,
   "metadata": {
    "execution": {
     "iopub.execute_input": "2025-04-07T09:22:26.198368Z",
     "iopub.status.busy": "2025-04-07T09:22:26.197954Z",
     "iopub.status.idle": "2025-04-07T09:22:39.272662Z",
     "shell.execute_reply": "2025-04-07T09:22:39.271425Z",
     "shell.execute_reply.started": "2025-04-07T09:22:26.198334Z"
    },
    "trusted": true
   },
   "outputs": [],
   "source": [
    "df = pd.read_csv(\"data.csv\")"
   ]
  },
  {
   "cell_type": "code",
   "execution_count": 3,
   "metadata": {
    "execution": {
     "iopub.execute_input": "2025-04-07T09:22:39.274466Z",
     "iopub.status.busy": "2025-04-07T09:22:39.274090Z",
     "iopub.status.idle": "2025-04-07T09:22:39.586415Z",
     "shell.execute_reply": "2025-04-07T09:22:39.585299Z",
     "shell.execute_reply.started": "2025-04-07T09:22:39.274430Z"
    },
    "trusted": true
   },
   "outputs": [],
   "source": [
    "new_df = df.copy()"
   ]
  },
  {
   "cell_type": "code",
   "execution_count": null,
   "metadata": {
    "execution": {
     "iopub.execute_input": "2025-04-06T12:50:07.773734Z",
     "iopub.status.busy": "2025-04-06T12:50:07.773331Z",
     "iopub.status.idle": "2025-04-06T12:50:08.450594Z",
     "shell.execute_reply": "2025-04-06T12:50:08.449637Z",
     "shell.execute_reply.started": "2025-04-06T12:50:07.773705Z"
    },
    "trusted": true
   },
   "outputs": [],
   "source": [
    "df.info()"
   ]
  },
  {
   "cell_type": "code",
   "execution_count": null,
   "metadata": {
    "execution": {
     "iopub.execute_input": "2025-04-06T12:50:08.451845Z",
     "iopub.status.busy": "2025-04-06T12:50:08.451569Z",
     "iopub.status.idle": "2025-04-06T12:50:10.018132Z",
     "shell.execute_reply": "2025-04-06T12:50:10.017274Z",
     "shell.execute_reply.started": "2025-04-06T12:50:08.451817Z"
    },
    "trusted": true
   },
   "outputs": [],
   "source": [
    "df.nunique()"
   ]
  },
  {
   "cell_type": "code",
   "execution_count": null,
   "metadata": {
    "execution": {
     "iopub.execute_input": "2025-04-06T12:50:10.019488Z",
     "iopub.status.busy": "2025-04-06T12:50:10.019204Z",
     "iopub.status.idle": "2025-04-06T12:50:10.438486Z",
     "shell.execute_reply": "2025-04-06T12:50:10.437552Z",
     "shell.execute_reply.started": "2025-04-06T12:50:10.019462Z"
    },
    "trusted": true
   },
   "outputs": [],
   "source": [
    "df.describe().transpose()"
   ]
  },
  {
   "cell_type": "code",
   "execution_count": null,
   "metadata": {
    "execution": {
     "iopub.execute_input": "2025-04-06T12:50:10.439652Z",
     "iopub.status.busy": "2025-04-06T12:50:10.439398Z",
     "iopub.status.idle": "2025-04-06T12:50:14.640359Z",
     "shell.execute_reply": "2025-04-06T12:50:14.639497Z",
     "shell.execute_reply.started": "2025-04-06T12:50:10.439628Z"
    },
    "trusted": true
   },
   "outputs": [],
   "source": [
    "df.describe(include=[\"object\", \"bool\"]).transpose()"
   ]
  },
  {
   "cell_type": "code",
   "execution_count": null,
   "metadata": {
    "execution": {
     "iopub.execute_input": "2025-04-06T12:50:14.642103Z",
     "iopub.status.busy": "2025-04-06T12:50:14.641816Z",
     "iopub.status.idle": "2025-04-06T12:50:14.653174Z",
     "shell.execute_reply": "2025-04-06T12:50:14.652404Z",
     "shell.execute_reply.started": "2025-04-06T12:50:14.642074Z"
    },
    "trusted": true
   },
   "outputs": [],
   "source": [
    "fraud_vals = pd.DataFrame(df['fraud_bool'].value_counts()).reset_index()\n",
    "fraud_vals.columns = ['fraud_bool', 'count']\n",
    "print(fraud_vals)"
   ]
  },
  {
   "cell_type": "code",
   "execution_count": null,
   "metadata": {
    "execution": {
     "iopub.execute_input": "2025-04-06T12:50:14.654311Z",
     "iopub.status.busy": "2025-04-06T12:50:14.654095Z",
     "iopub.status.idle": "2025-04-06T12:50:14.666201Z",
     "shell.execute_reply": "2025-04-06T12:50:14.665306Z",
     "shell.execute_reply.started": "2025-04-06T12:50:14.654291Z"
    },
    "trusted": true
   },
   "outputs": [],
   "source": [
    "my_palette = sns.color_palette(\"husl\", 2)\n",
    "sns.set_style(\"whitegrid\")"
   ]
  },
  {
   "cell_type": "code",
   "execution_count": null,
   "metadata": {
    "execution": {
     "iopub.execute_input": "2025-04-06T12:50:14.837628Z",
     "iopub.status.busy": "2025-04-06T12:50:14.837383Z",
     "iopub.status.idle": "2025-04-06T12:50:15.033545Z",
     "shell.execute_reply": "2025-04-06T12:50:15.032608Z",
     "shell.execute_reply.started": "2025-04-06T12:50:14.837606Z"
    },
    "trusted": true
   },
   "outputs": [],
   "source": [
    "plt.figure(figsize=(8, 6))\n",
    "sns.barplot(data=fraud_vals, x=\"fraud_bool\", y=\"count\", palette=my_palette, alpha=.6, hue=\"fraud_bool\")\n",
    "plt.xlabel(\"Fraud\", fontsize=12)\n",
    "plt.ylabel(\"Count\", fontsize=12)\n",
    "plt.xticks(fontsize=10)\n",
    "plt.yticks(fontsize=10)\n",
    "plt.title(\"Number of Transactions by Fraud Status\", fontsize=14)\n",
    "plt.show()"
   ]
  },
  {
   "cell_type": "code",
   "execution_count": 5,
   "metadata": {
    "execution": {
     "iopub.execute_input": "2025-04-07T09:22:39.588505Z",
     "iopub.status.busy": "2025-04-07T09:22:39.588141Z",
     "iopub.status.idle": "2025-04-07T09:22:41.578189Z",
     "shell.execute_reply": "2025-04-07T09:22:41.576784Z",
     "shell.execute_reply.started": "2025-04-07T09:22:39.588466Z"
    },
    "trusted": true
   },
   "outputs": [
    {
     "name": "stdout",
     "output_type": "stream",
     "text": [
      "['amount', 'account_age_days', 'time_since_last_txn', 'amount_velocity', 'amount_to_average_ratio']\n"
     ]
    }
   ],
   "source": [
    "numeric_features = [x for x in df.columns if df[x].nunique() >= 10]\n",
    "rm_features = ['transaction_id', 'sender_id', 'receiver_id', 'timestamp', 'session_id', 'ip_address', 'device_fingerprint', 'transaction_date', 'zip_code', 'month', \"hour_of_day\", \"pattern\", \"merchant_category\"]\n",
    "numeric_features = [x for x in numeric_features if x not in rm_features]\n",
    "print(numeric_features)\n"
   ]
  },
  {
   "cell_type": "code",
   "execution_count": null,
   "metadata": {
    "execution": {
     "iopub.execute_input": "2025-04-06T12:50:19.384871Z",
     "iopub.status.busy": "2025-04-06T12:50:19.384374Z",
     "iopub.status.idle": "2025-04-06T12:50:41.299328Z",
     "shell.execute_reply": "2025-04-06T12:50:41.298280Z",
     "shell.execute_reply.started": "2025-04-06T12:50:19.384841Z"
    },
    "trusted": true
   },
   "outputs": [],
   "source": [
    "# Create a grid of subplots\n",
    "fig, axes = plt.subplots(nrows=2, ncols=3, figsize=(20, 10))\n",
    "\n",
    "# Add a title to the figure\n",
    "fig.suptitle('Distribution of Numeric Features by Fraud Status')\n",
    "\n",
    "# Loop through the numeric features and plot a kernel density plot for each feature\n",
    "for i, feature in enumerate(numeric_features):\n",
    "    ax = axes[i // 3][i % 3]\n",
    "    sns.kdeplot(data=df[df['fraud_bool'] == 0][feature], fill=True, ax=ax, label='Not Fraud')\n",
    "    sns.kdeplot(data=df[df['fraud_bool'] == 1][feature], fill=True, ax=ax, label='Fraud')\n",
    "    ax.set_xlabel(feature)\n",
    "    ax.legend()\n",
    "\n",
    "# Adjust the layout and display the plot\n",
    "plt.tight_layout()\n",
    "plt.show()"
   ]
  },
  {
   "cell_type": "code",
   "execution_count": null,
   "metadata": {
    "execution": {
     "iopub.execute_input": "2025-04-06T12:50:41.300452Z",
     "iopub.status.busy": "2025-04-06T12:50:41.300205Z",
     "iopub.status.idle": "2025-04-06T12:50:51.484507Z",
     "shell.execute_reply": "2025-04-06T12:50:51.483638Z",
     "shell.execute_reply.started": "2025-04-06T12:50:41.300421Z"
    },
    "trusted": true
   },
   "outputs": [],
   "source": [
    "# Create a grid of subplots\n",
    "fig, axes = plt.subplots(nrows=2, ncols=3, figsize=(20, 10))\n",
    "\n",
    "# Add a title to the figure\n",
    "fig.suptitle('Box Plot of Numeric Features by Fraud Status')\n",
    "\n",
    "# Loop through the numeric features and plot a box plot for each feature\n",
    "for i, feature in enumerate(numeric_features):\n",
    "    ax = axes[i // 3][i % 3]\n",
    "    sns.boxplot(data=df, x='fraud_bool', y=feature, ax=ax, palette=my_palette, boxprops=dict(alpha=.6))\n",
    "    ax.set_xlabel('')\n",
    "    ax.set_ylabel(feature)\n",
    "    ax.set_xticklabels(['Not Fraud', 'Fraud'])\n",
    "\n",
    "# Adjust the layout and display the plot\n",
    "plt.tight_layout()\n",
    "plt.show()"
   ]
  },
  {
   "cell_type": "code",
   "execution_count": 6,
   "metadata": {
    "execution": {
     "iopub.execute_input": "2025-04-07T09:22:41.579659Z",
     "iopub.status.busy": "2025-04-07T09:22:41.579355Z",
     "iopub.status.idle": "2025-04-07T09:22:41.585423Z",
     "shell.execute_reply": "2025-04-07T09:22:41.584352Z",
     "shell.execute_reply.started": "2025-04-07T09:22:41.579632Z"
    },
    "trusted": true
   },
   "outputs": [
    {
     "name": "stdout",
     "output_type": "stream",
     "text": [
      "['source', 'device_os', 'browser', 'merchant_category', 'is_international', 'country_code', 'merchant_risk_level', 'device_match', 'hour_of_day', 'day_of_week', 'is_weekend', 'month']\n"
     ]
    }
   ],
   "source": [
    "rm_features = ['transaction_id', 'sender_id', 'receiver_id', 'timestamp', 'zip_code', 'ip_address', 'session_id', 'device_fingerprint', 'fraud_bool', 'pattern', 'transaction_date']\n",
    "\n",
    "categorical_features = [x for x in df.columns if x not in numeric_features and x not in rm_features]\n",
    "print(categorical_features)"
   ]
  },
  {
   "cell_type": "code",
   "execution_count": 7,
   "metadata": {
    "execution": {
     "iopub.execute_input": "2025-04-07T09:22:41.586778Z",
     "iopub.status.busy": "2025-04-07T09:22:41.586467Z",
     "iopub.status.idle": "2025-04-07T09:22:42.765267Z",
     "shell.execute_reply": "2025-04-07T09:22:42.763994Z",
     "shell.execute_reply.started": "2025-04-07T09:22:41.586742Z"
    },
    "trusted": true
   },
   "outputs": [],
   "source": [
    "new_df = pd.get_dummies(new_df, columns=categorical_features, prefix=categorical_features)"
   ]
  },
  {
   "cell_type": "code",
   "execution_count": 8,
   "metadata": {
    "execution": {
     "iopub.execute_input": "2025-04-07T08:59:14.785200Z",
     "iopub.status.busy": "2025-04-07T08:59:14.784864Z",
     "iopub.status.idle": "2025-04-07T08:59:14.875636Z",
     "shell.execute_reply": "2025-04-07T08:59:14.874667Z",
     "shell.execute_reply.started": "2025-04-07T08:59:14.785173Z"
    },
    "trusted": true
   },
   "outputs": [],
   "source": [
    "X = new_df.drop(['fraud_bool', 'pattern','transaction_id', 'sender_id', 'receiver_id', 'timestamp', 'zip_code', 'ip_address', 'session_id', 'device_fingerprint','transaction_date'], axis=1)\n",
    "y = new_df['fraud_bool']"
   ]
  },
  {
   "cell_type": "code",
   "execution_count": 11,
   "metadata": {
    "execution": {
     "iopub.execute_input": "2025-04-07T08:59:46.994077Z",
     "iopub.status.busy": "2025-04-07T08:59:46.993637Z",
     "iopub.status.idle": "2025-04-07T08:59:47.002675Z",
     "shell.execute_reply": "2025-04-07T08:59:47.001775Z",
     "shell.execute_reply.started": "2025-04-07T08:59:46.994042Z"
    },
    "trusted": true
   },
   "outputs": [
    {
     "data": {
      "text/plain": [
       "['feature_columns.pkl']"
      ]
     },
     "execution_count": 11,
     "metadata": {},
     "output_type": "execute_result"
    }
   ],
   "source": [
    "import joblib\n",
    "# Save feature columns after encoding\n",
    "joblib.dump(X.columns.tolist(), \"feature_columns.pkl\")"
   ]
  },
  {
   "cell_type": "code",
   "execution_count": null,
   "metadata": {
    "execution": {
     "iopub.execute_input": "2025-04-06T12:50:52.515973Z",
     "iopub.status.busy": "2025-04-06T12:50:52.515717Z",
     "iopub.status.idle": "2025-04-06T12:50:52.999176Z",
     "shell.execute_reply": "2025-04-06T12:50:52.998076Z",
     "shell.execute_reply.started": "2025-04-06T12:50:52.515948Z"
    },
    "trusted": true
   },
   "outputs": [],
   "source": [
    "from sklearn.compose import ColumnTransformer\n",
    "from sklearn.preprocessing import MinMaxScaler"
   ]
  },
  {
   "cell_type": "code",
   "execution_count": null,
   "metadata": {
    "execution": {
     "iopub.execute_input": "2025-04-06T12:50:53.000642Z",
     "iopub.status.busy": "2025-04-06T12:50:53.000209Z",
     "iopub.status.idle": "2025-04-06T12:50:53.363524Z",
     "shell.execute_reply": "2025-04-06T12:50:53.362439Z",
     "shell.execute_reply.started": "2025-04-06T12:50:53.000617Z"
    },
    "trusted": true
   },
   "outputs": [],
   "source": [
    "numeric_transformer = MinMaxScaler()\n",
    "preprocessor = ColumnTransformer([('scaled', numeric_transformer, numeric_features)], remainder='passthrough')\n",
    "X_scaled = preprocessor.fit_transform(X)"
   ]
  },
  {
   "cell_type": "code",
   "execution_count": null,
   "metadata": {
    "execution": {
     "iopub.execute_input": "2025-04-06T12:50:53.364934Z",
     "iopub.status.busy": "2025-04-06T12:50:53.364568Z",
     "iopub.status.idle": "2025-04-06T12:50:53.370112Z",
     "shell.execute_reply": "2025-04-06T12:50:53.369030Z",
     "shell.execute_reply.started": "2025-04-06T12:50:53.364902Z"
    },
    "trusted": true
   },
   "outputs": [],
   "source": [
    "feature_names = preprocessor.get_feature_names_out()\n",
    "feature_names = [feature.replace('remainder__', '') for feature in feature_names]\n",
    "print(feature_names)"
   ]
  },
  {
   "cell_type": "code",
   "execution_count": null,
   "metadata": {
    "execution": {
     "iopub.execute_input": "2025-04-06T12:50:53.371373Z",
     "iopub.status.busy": "2025-04-06T12:50:53.371113Z",
     "iopub.status.idle": "2025-04-06T12:50:53.379188Z",
     "shell.execute_reply": "2025-04-06T12:50:53.378226Z",
     "shell.execute_reply.started": "2025-04-06T12:50:53.371331Z"
    },
    "trusted": true
   },
   "outputs": [],
   "source": [
    "X_scaled = pd.DataFrame(X_scaled, columns=feature_names)"
   ]
  },
  {
   "cell_type": "code",
   "execution_count": null,
   "metadata": {
    "execution": {
     "iopub.execute_input": "2025-04-06T12:51:06.162509Z",
     "iopub.status.busy": "2025-04-06T12:51:06.162152Z",
     "iopub.status.idle": "2025-04-06T12:51:06.616441Z",
     "shell.execute_reply": "2025-04-06T12:51:06.615370Z",
     "shell.execute_reply.started": "2025-04-06T12:51:06.162480Z"
    },
    "trusted": true
   },
   "outputs": [],
   "source": [
    "X_scaled_clean = X_scaled.dropna()\n",
    "y_clean = y[X_scaled_clean.index]\n",
    "X_scaled = X_scaled_clean\n",
    "y = y_clean"
   ]
  },
  {
   "cell_type": "code",
   "execution_count": null,
   "metadata": {
    "execution": {
     "iopub.execute_input": "2025-04-06T12:51:08.043285Z",
     "iopub.status.busy": "2025-04-06T12:51:08.042986Z",
     "iopub.status.idle": "2025-04-06T12:51:08.340571Z",
     "shell.execute_reply": "2025-04-06T12:51:08.339461Z",
     "shell.execute_reply.started": "2025-04-06T12:51:08.043259Z"
    },
    "trusted": true
   },
   "outputs": [],
   "source": [
    "from sklearn.feature_selection import VarianceThreshold, SelectKBest, SelectFromModel, chi2, mutual_info_classif\n",
    "from sklearn.linear_model import Lasso, Ridge\n",
    "from sklearn.ensemble import ExtraTreesClassifier"
   ]
  },
  {
   "cell_type": "code",
   "execution_count": null,
   "metadata": {
    "execution": {
     "iopub.execute_input": "2025-04-06T12:51:24.068164Z",
     "iopub.status.busy": "2025-04-06T12:51:24.067809Z",
     "iopub.status.idle": "2025-04-06T12:51:29.480788Z",
     "shell.execute_reply": "2025-04-06T12:51:29.479489Z",
     "shell.execute_reply.started": "2025-04-06T12:51:24.068135Z"
    },
    "trusted": true
   },
   "outputs": [],
   "source": [
    "!pip install imblearn"
   ]
  },
  {
   "cell_type": "code",
   "execution_count": 9,
   "metadata": {
    "execution": {
     "iopub.execute_input": "2025-04-07T09:24:21.060958Z",
     "iopub.status.busy": "2025-04-07T09:24:21.060610Z",
     "iopub.status.idle": "2025-04-07T09:24:21.065436Z",
     "shell.execute_reply": "2025-04-07T09:24:21.064118Z",
     "shell.execute_reply.started": "2025-04-07T09:24:21.060929Z"
    },
    "trusted": true
   },
   "outputs": [],
   "source": [
    "from imblearn.under_sampling import NearMiss\n",
    "from collections import Counter"
   ]
  },
  {
   "cell_type": "code",
   "execution_count": null,
   "metadata": {
    "execution": {
     "iopub.execute_input": "2025-04-06T12:51:34.499168Z",
     "iopub.status.busy": "2025-04-06T12:51:34.498254Z",
     "iopub.status.idle": "2025-04-06T12:51:40.562169Z",
     "shell.execute_reply": "2025-04-06T12:51:40.560722Z",
     "shell.execute_reply.started": "2025-04-06T12:51:34.499132Z"
    },
    "trusted": true
   },
   "outputs": [],
   "source": [
    "%%time\n",
    "print(f'Test dataset samples per class {Counter(y)}')\n",
    "\n",
    "# Define the NearMiss undersampling object with a sampling strategy of 1 and all available CPU cores\n",
    "nm = NearMiss(sampling_strategy=1, n_jobs=-1)\n",
    "\n",
    "# Perform NearMiss undersampling on the feature matrix X and target variable y\n",
    "X_scaled_nm, y_scaled_nm = nm.fit_resample(X_scaled, y)\n",
    "\n",
    "# Print the number of occurrences of each class in the resampled dataset\n",
    "print('Resampled dataset shape %s' % Counter(y_scaled_nm))"
   ]
  },
  {
   "cell_type": "code",
   "execution_count": null,
   "metadata": {
    "execution": {
     "iopub.execute_input": "2025-04-06T12:51:59.751713Z",
     "iopub.status.busy": "2025-04-06T12:51:59.751288Z",
     "iopub.status.idle": "2025-04-06T12:51:59.804260Z",
     "shell.execute_reply": "2025-04-06T12:51:59.802850Z",
     "shell.execute_reply.started": "2025-04-06T12:51:59.751682Z"
    },
    "trusted": true
   },
   "outputs": [],
   "source": [
    "categorical_features = [feature for feature in X_scaled_nm.columns if X_scaled_nm[feature].nunique() >= 2 and X_scaled_nm[feature].nunique() < 10]\n",
    "\n",
    "print(categorical_features)"
   ]
  },
  {
   "cell_type": "code",
   "execution_count": null,
   "metadata": {
    "execution": {
     "iopub.execute_input": "2025-04-06T12:52:01.109877Z",
     "iopub.status.busy": "2025-04-06T12:52:01.109538Z",
     "iopub.status.idle": "2025-04-06T12:52:01.137899Z",
     "shell.execute_reply": "2025-04-06T12:52:01.136638Z",
     "shell.execute_reply.started": "2025-04-06T12:52:01.109845Z"
    },
    "trusted": true
   },
   "outputs": [],
   "source": [
    "numeric_features = [feature for feature in X_scaled_nm.columns if X_scaled_nm[feature].nunique() >= 10]\n",
    "\n",
    "print(numeric_features)"
   ]
  },
  {
   "cell_type": "code",
   "execution_count": null,
   "metadata": {
    "execution": {
     "iopub.execute_input": "2025-04-06T12:52:02.693893Z",
     "iopub.status.busy": "2025-04-06T12:52:02.693491Z",
     "iopub.status.idle": "2025-04-06T12:52:02.738000Z",
     "shell.execute_reply": "2025-04-06T12:52:02.736839Z",
     "shell.execute_reply.started": "2025-04-06T12:52:02.693859Z"
    },
    "trusted": true
   },
   "outputs": [],
   "source": [
    "selector = VarianceThreshold()\n",
    "selector.fit(X_scaled_nm)\n",
    "\n",
    "# Get the names of the constant features\n",
    "constant_features = [feature for feature in X_scaled_nm.columns \n",
    "                     if feature not in X_scaled_nm.columns[selector.get_support()]]\n",
    "\n",
    "# Print the names of the constant features\n",
    "print(constant_features)"
   ]
  },
  {
   "cell_type": "code",
   "execution_count": null,
   "metadata": {
    "execution": {
     "iopub.execute_input": "2025-04-06T12:52:03.255194Z",
     "iopub.status.busy": "2025-04-06T12:52:03.254855Z",
     "iopub.status.idle": "2025-04-06T12:52:03.712772Z",
     "shell.execute_reply": "2025-04-06T12:52:03.711425Z",
     "shell.execute_reply.started": "2025-04-06T12:52:03.255163Z"
    },
    "trusted": true
   },
   "outputs": [],
   "source": [
    "X_train_corr = X_scaled_nm[numeric_features].corr()\n",
    "\n",
    "# Instead of filtering with NaNs, mask weak correlations with 0\n",
    "filtered_corr = X_train_corr.mask(X_train_corr.abs() < 0.4, other=0)\n",
    "\n",
    "# Plot correlation matrix with annotated values\n",
    "fig, ax = plt.subplots(figsize=(18, 10))\n",
    "sns.heatmap(filtered_corr, annot=True, fmt=\".2f\", cmap='coolwarm',\n",
    "            linewidths=.5, square=True, ax=ax,\n",
    "            annot_kws={\"fontsize\": 8}, vmin=-1, vmax=1,\n",
    "            cbar_kws={\"shrink\": 0.8})\n",
    "plt.title('Correlation Heatmap (|corr| ≥ 0.4 shown)')\n",
    "plt.show()\n"
   ]
  },
  {
   "cell_type": "code",
   "execution_count": null,
   "metadata": {
    "execution": {
     "iopub.execute_input": "2025-04-06T12:52:06.916627Z",
     "iopub.status.busy": "2025-04-06T12:52:06.916257Z",
     "iopub.status.idle": "2025-04-06T12:52:06.947670Z",
     "shell.execute_reply": "2025-04-06T12:52:06.946080Z",
     "shell.execute_reply.started": "2025-04-06T12:52:06.916593Z"
    },
    "trusted": true
   },
   "outputs": [],
   "source": [
    "X_train_cat = X_scaled_nm[categorical_features].copy()\n",
    "\n",
    "y_train_cat = y_scaled_nm.copy()"
   ]
  },
  {
   "cell_type": "code",
   "execution_count": null,
   "metadata": {
    "execution": {
     "iopub.execute_input": "2025-04-06T12:52:07.406850Z",
     "iopub.status.busy": "2025-04-06T12:52:07.406509Z",
     "iopub.status.idle": "2025-04-06T12:52:07.423888Z",
     "shell.execute_reply": "2025-04-06T12:52:07.422153Z",
     "shell.execute_reply.started": "2025-04-06T12:52:07.406819Z"
    },
    "trusted": true
   },
   "outputs": [],
   "source": [
    "# Use chi-squared test to evaluate the relationship between categorical features and the target variable\n",
    "chi2_results = chi2(X_train_cat, y_train_cat)"
   ]
  },
  {
   "cell_type": "code",
   "execution_count": null,
   "metadata": {
    "execution": {
     "iopub.execute_input": "2025-04-06T12:52:08.972091Z",
     "iopub.status.busy": "2025-04-06T12:52:08.971761Z",
     "iopub.status.idle": "2025-04-06T12:52:08.977364Z",
     "shell.execute_reply": "2025-04-06T12:52:08.976097Z",
     "shell.execute_reply.started": "2025-04-06T12:52:08.972062Z"
    },
    "trusted": true
   },
   "outputs": [],
   "source": [
    "# Create a pandas DataFrame to store the chi-squared test results\n",
    "chi2_results_df = pd.DataFrame(data={'feature': X_train_cat.columns, 'chi2': chi2_results[0], 'p_value': chi2_results[1]})"
   ]
  },
  {
   "cell_type": "code",
   "execution_count": null,
   "metadata": {
    "execution": {
     "iopub.execute_input": "2025-04-06T12:52:09.295717Z",
     "iopub.status.busy": "2025-04-06T12:52:09.295389Z",
     "iopub.status.idle": "2025-04-06T12:52:10.593746Z",
     "shell.execute_reply": "2025-04-06T12:52:10.592063Z",
     "shell.execute_reply.started": "2025-04-06T12:52:09.295690Z"
    },
    "trusted": true
   },
   "outputs": [],
   "source": [
    "# Set up plot\n",
    "plt.figure(figsize=(16, 8))\n",
    "\n",
    "# Create bar plot\n",
    "sns.barplot(data=chi2_results_df.sort_values(by='chi2', ascending=False), x=\"feature\", y=\"chi2\", palette=my_palette, alpha=.6)\n",
    "\n",
    "# Customize labels and legend\n",
    "plt.xlabel(\"Features\", fontsize=12)\n",
    "plt.ylabel(\"chi2\", fontsize=12)\n",
    "plt.xticks(rotation=90, fontsize=8)\n",
    "plt.yticks(fontsize=5)\n",
    "plt.title(\"Chi-Squared Value by Categorical Feature\", fontsize=14)\n",
    "\n",
    "# Adjust the spacing between subplots\n",
    "plt.tight_layout()\n",
    "\n",
    "# Show the plot\n",
    "plt.show()"
   ]
  },
  {
   "cell_type": "code",
   "execution_count": null,
   "metadata": {
    "execution": {
     "iopub.execute_input": "2025-04-06T12:52:17.670648Z",
     "iopub.status.busy": "2025-04-06T12:52:17.670316Z",
     "iopub.status.idle": "2025-04-06T12:52:17.689937Z",
     "shell.execute_reply": "2025-04-06T12:52:17.688189Z",
     "shell.execute_reply.started": "2025-04-06T12:52:17.670625Z"
    },
    "trusted": true
   },
   "outputs": [],
   "source": [
    "# Use SelectKBest with chi-squared test to select the top 5 categorical features that are most strongly associated with the target variable\n",
    "best_chi2_cols = SelectKBest(chi2, k=5)\n",
    "best_chi2_cols.fit(X_train_cat, y_train_cat)\n",
    "\n",
    "# Get the names of the top 5 features\n",
    "best_chi2_features = [X_train_cat.columns[best_chi2_cols.get_support()]]\n",
    "\n",
    "# Print the names of the top 5 features\n",
    "print(best_chi2_features)"
   ]
  },
  {
   "cell_type": "code",
   "execution_count": null,
   "metadata": {
    "execution": {
     "iopub.execute_input": "2025-04-06T12:52:18.016607Z",
     "iopub.status.busy": "2025-04-06T12:52:18.016260Z",
     "iopub.status.idle": "2025-04-06T12:52:18.024044Z",
     "shell.execute_reply": "2025-04-06T12:52:18.022502Z",
     "shell.execute_reply.started": "2025-04-06T12:52:18.016579Z"
    },
    "trusted": true
   },
   "outputs": [],
   "source": [
    "# Create a new DataFrame with only the numeric features from the preprocessed training data\n",
    "X_train_num = X_scaled_nm[numeric_features].copy()\n",
    "\n",
    "# Create a copy of the target variable\n",
    "y_train_num = y_scaled_nm.copy()"
   ]
  },
  {
   "cell_type": "code",
   "execution_count": null,
   "metadata": {
    "execution": {
     "iopub.execute_input": "2025-04-06T12:52:20.096280Z",
     "iopub.status.busy": "2025-04-06T12:52:20.095951Z",
     "iopub.status.idle": "2025-04-06T12:52:20.669815Z",
     "shell.execute_reply": "2025-04-06T12:52:20.668677Z",
     "shell.execute_reply.started": "2025-04-06T12:52:20.096251Z"
    },
    "trusted": true
   },
   "outputs": [],
   "source": [
    "# Use mutual information test to evaluate the relationship between numerical features and the target variable\n",
    "mutual_info_results = mutual_info_classif(X_train_num, y_train_num)"
   ]
  },
  {
   "cell_type": "code",
   "execution_count": null,
   "metadata": {
    "execution": {
     "iopub.execute_input": "2025-04-06T12:52:20.670838Z",
     "iopub.status.busy": "2025-04-06T12:52:20.670599Z",
     "iopub.status.idle": "2025-04-06T12:52:20.676145Z",
     "shell.execute_reply": "2025-04-06T12:52:20.674767Z",
     "shell.execute_reply.started": "2025-04-06T12:52:20.670815Z"
    },
    "trusted": true
   },
   "outputs": [],
   "source": [
    "# Create a pandas DataFrame to store the mutual information test results\n",
    "mutual_info_results_df = pd.DataFrame(data={'feature': X_train_num.columns, 'mutual_info': mutual_info_results})"
   ]
  },
  {
   "cell_type": "code",
   "execution_count": null,
   "metadata": {
    "execution": {
     "iopub.execute_input": "2025-04-06T12:52:22.094895Z",
     "iopub.status.busy": "2025-04-06T12:52:22.094510Z",
     "iopub.status.idle": "2025-04-06T12:52:22.344781Z",
     "shell.execute_reply": "2025-04-06T12:52:22.343287Z",
     "shell.execute_reply.started": "2025-04-06T12:52:22.094860Z"
    },
    "trusted": true
   },
   "outputs": [],
   "source": [
    "# Set up plot\n",
    "plt.figure(figsize=(16, 8))\n",
    "\n",
    "# Create bar plot\n",
    "sns.barplot(data=mutual_info_results_df.sort_values(by='mutual_info', ascending=False), x=\"feature\", y=\"mutual_info\", palette=my_palette, alpha=.6)\n",
    "\n",
    "# Customize labels and legend\n",
    "plt.xlabel(\"Features\", fontsize=12)\n",
    "plt.ylabel(\"mutual_info\", fontsize=12)\n",
    "plt.xticks(rotation=45, fontsize=8)\n",
    "plt.yticks(fontsize=8)\n",
    "plt.title(\"Mutual Information Value by Numerical Feature\", fontsize=14)\n",
    "\n",
    "# Adjust the spacing between subplots\n",
    "plt.tight_layout()\n",
    "\n",
    "# Show the plot\n",
    "plt.show()"
   ]
  },
  {
   "cell_type": "code",
   "execution_count": null,
   "metadata": {
    "execution": {
     "iopub.execute_input": "2025-04-06T12:52:24.758878Z",
     "iopub.status.busy": "2025-04-06T12:52:24.758543Z",
     "iopub.status.idle": "2025-04-06T12:52:26.689528Z",
     "shell.execute_reply": "2025-04-06T12:52:26.688182Z",
     "shell.execute_reply.started": "2025-04-06T12:52:24.758847Z"
    },
    "trusted": true
   },
   "outputs": [],
   "source": [
    "extra = ExtraTreesClassifier(n_estimators=50, random_state=0)\n",
    "extra.fit(X_scaled_nm, y_scaled_nm)\n",
    "\n",
    "# Create a SelectFromModel object with the fitted Random Forest model\n",
    "feature_sel_extra = SelectFromModel(extra, prefit=True)\n",
    "\n",
    "# Get the names of the selected features by calling .get_support() on the SelectFromModel object\n",
    "best_extra_features = [X_scaled_nm.columns[(feature_sel_extra.get_support())]]\n",
    "best_extra_features = list(best_extra_features[0])\n",
    "\n",
    "# Print the names of the selected features\n",
    "print(best_extra_features)"
   ]
  },
  {
   "cell_type": "code",
   "execution_count": null,
   "metadata": {
    "execution": {
     "iopub.execute_input": "2025-04-06T12:52:26.690700Z",
     "iopub.status.busy": "2025-04-06T12:52:26.690336Z",
     "iopub.status.idle": "2025-04-06T12:52:26.716546Z",
     "shell.execute_reply": "2025-04-06T12:52:26.714791Z",
     "shell.execute_reply.started": "2025-04-06T12:52:26.690670Z"
    },
    "trusted": true
   },
   "outputs": [],
   "source": [
    "extra_importances = pd.DataFrame({'feature': X_scaled_nm.columns, 'importance': extra.feature_importances_, 'model': 'ExtraTreesClassifier'})"
   ]
  },
  {
   "cell_type": "code",
   "execution_count": null,
   "metadata": {
    "execution": {
     "iopub.execute_input": "2025-04-06T12:52:26.717648Z",
     "iopub.status.busy": "2025-04-06T12:52:26.717312Z",
     "iopub.status.idle": "2025-04-06T12:52:27.647940Z",
     "shell.execute_reply": "2025-04-06T12:52:27.646536Z",
     "shell.execute_reply.started": "2025-04-06T12:52:26.717622Z"
    },
    "trusted": true
   },
   "outputs": [],
   "source": [
    "# Set up plot\n",
    "plt.figure(figsize=(16, 8))\n",
    "\n",
    "# Create grouped bar plot\n",
    "sns.barplot(data=extra_importances.sort_values(by='importance', ascending=False), x=\"feature\", y=\"importance\", hue=\"model\", palette=my_palette, alpha=.6)\n",
    "\n",
    "# Customize labels and legend\n",
    "plt.xlabel(\"Features\", fontsize=12)\n",
    "plt.ylabel(\"Importance Value\", fontsize=12)\n",
    "plt.xticks(rotation=90, fontsize=8)\n",
    "plt.yticks(fontsize=8)\n",
    "plt.title(\"Feature Importances by Model\", fontsize=14)\n",
    "plt.legend(title='Model', fontsize=12)\n",
    "\n",
    "# Adjust the spacing between subplots\n",
    "plt.tight_layout()\n",
    "\n",
    "# Show the plot\n",
    "plt.show()"
   ]
  },
  {
   "cell_type": "code",
   "execution_count": 10,
   "metadata": {
    "execution": {
     "iopub.execute_input": "2025-04-07T09:23:06.101724Z",
     "iopub.status.busy": "2025-04-07T09:23:06.101376Z",
     "iopub.status.idle": "2025-04-07T09:23:06.957443Z",
     "shell.execute_reply": "2025-04-07T09:23:06.956357Z",
     "shell.execute_reply.started": "2025-04-07T09:23:06.101697Z"
    },
    "trusted": true
   },
   "outputs": [],
   "source": [
    "# Import the necessary libraries for oversampling imbalanced datasets\n",
    "from imblearn.over_sampling import SMOTENC\n",
    "from imblearn.pipeline import make_pipeline"
   ]
  },
  {
   "cell_type": "code",
   "execution_count": null,
   "metadata": {
    "execution": {
     "iopub.execute_input": "2025-04-06T12:52:30.176460Z",
     "iopub.status.busy": "2025-04-06T12:52:30.176056Z",
     "iopub.status.idle": "2025-04-06T12:52:30.180767Z",
     "shell.execute_reply": "2025-04-06T12:52:30.179385Z",
     "shell.execute_reply.started": "2025-04-06T12:52:30.176424Z"
    },
    "trusted": true
   },
   "outputs": [],
   "source": [
    "# Import necessary modules for hyperparameter tuning\n",
    "from sklearn.model_selection import StratifiedKFold, RandomizedSearchCV, GridSearchCV"
   ]
  },
  {
   "cell_type": "code",
   "execution_count": 29,
   "metadata": {
    "execution": {
     "iopub.execute_input": "2025-04-06T12:52:31.611577Z",
     "iopub.status.busy": "2025-04-06T12:52:31.611212Z",
     "iopub.status.idle": "2025-04-06T12:52:31.619262Z",
     "shell.execute_reply": "2025-04-06T12:52:31.617858Z",
     "shell.execute_reply.started": "2025-04-06T12:52:31.611546Z"
    },
    "trusted": true
   },
   "outputs": [],
   "source": [
    "def train_classifier(classifier, param_dist, X_train, y_train, encoded_features, search_type='random'):\n",
    "    \"\"\"\n",
    "    Train a classifier using the specified parameters and return the trained model.\n",
    "    \n",
    "    Parameters:\n",
    "    classifier (sklearn estimator): The estimator to train.\n",
    "    param_dist (dict): The distribution of parameters to search over.\n",
    "    X_train (pandas DataFrame): The training features.\n",
    "    y_train (pandas Series): The training target.\n",
    "    encoded_features (list): A list of encoded categorical features.\n",
    "    search_type (str, optional): The type of hyperparameter search to perform. Must be either 'random' or 'grid'. Defaults to 'random'.\n",
    "    \n",
    "    Returns:\n",
    "    A trained classifier.\n",
    "    \"\"\"\n",
    "    \n",
    "    # Apply SMOTENC to deal with imbalanced classes\n",
    "    smote_nc = SMOTENC(categorical_features=encoded_features, sampling_strategy='minority', random_state=42)\n",
    "        \n",
    "    # Create pipeline with SMOTENC and the classifier\n",
    "    pipeline = make_pipeline(smote_nc, classifier)\n",
    "    \n",
    "    # Define cross-validation strategy\n",
    "    cv = StratifiedKFold(n_splits=5, shuffle=True, random_state=42)\n",
    "    \n",
    "    # Perform hyperparameter search\n",
    "    if search_type == 'random':\n",
    "        search_cv = RandomizedSearchCV(estimator=pipeline, \n",
    "                                      param_distributions=param_dist,\n",
    "                                      n_iter=20,\n",
    "                                      scoring=\"roc_auc\",\n",
    "                                      n_jobs=-1,\n",
    "                                      cv=cv,\n",
    "                                      verbose=2)\n",
    "    elif search_type == 'grid':\n",
    "        search_cv = GridSearchCV(estimator=pipeline,\n",
    "                                 param_grid=param_dist,\n",
    "                                 scoring=\"roc_auc\",\n",
    "                                 n_jobs=-1,\n",
    "                                 cv=cv)\n",
    "    else:\n",
    "        raise ValueError('search_type must be either \"random\" or \"grid\"')\n",
    "        \n",
    "    # Fit the model and return the trained classifier\n",
    "    search_cv.fit(X_train, y_train)\n",
    "\n",
    "    return search_cv\n"
   ]
  },
  {
   "cell_type": "code",
   "execution_count": 30,
   "metadata": {
    "execution": {
     "iopub.execute_input": "2025-04-07T09:23:13.245300Z",
     "iopub.status.busy": "2025-04-07T09:23:13.244717Z",
     "iopub.status.idle": "2025-04-07T09:23:13.249543Z",
     "shell.execute_reply": "2025-04-07T09:23:13.248400Z",
     "shell.execute_reply.started": "2025-04-07T09:23:13.245264Z"
    },
    "trusted": true
   },
   "outputs": [],
   "source": [
    "# Importing the necessary libraries for metrics and evaluation\n",
    "from sklearn.metrics import classification_report, precision_recall_fscore_support, confusion_matrix, auc, roc_curve"
   ]
  },
  {
   "cell_type": "code",
   "execution_count": 31,
   "metadata": {
    "execution": {
     "iopub.execute_input": "2025-04-07T09:23:15.215134Z",
     "iopub.status.busy": "2025-04-07T09:23:15.214676Z",
     "iopub.status.idle": "2025-04-07T09:23:15.220397Z",
     "shell.execute_reply": "2025-04-07T09:23:15.219155Z",
     "shell.execute_reply.started": "2025-04-07T09:23:15.215090Z"
    },
    "trusted": true
   },
   "outputs": [],
   "source": [
    "def print_cls_report(y_test, y_pred, title):\n",
    "    # Calculate the classification report\n",
    "    default_report = classification_report(y_test, y_pred, target_names=['No Fraud', 'Fraud'])\n",
    "    \n",
    "    # Calculate precision, recall, f1 score and support for each class\n",
    "    precision, recall, f1_score, support = precision_recall_fscore_support(y_test, y_pred)\n",
    "\n",
    "    # Print the title and the default classification report\n",
    "    print(title)\n",
    "    print('*****' * 10)\n",
    "    print(default_report)\n",
    "\n",
    "    # Return the recall scores for each class\n",
    "    return recall"
   ]
  },
  {
   "cell_type": "code",
   "execution_count": 32,
   "metadata": {
    "execution": {
     "iopub.execute_input": "2025-04-07T09:23:15.891432Z",
     "iopub.status.busy": "2025-04-07T09:23:15.891029Z",
     "iopub.status.idle": "2025-04-07T09:23:15.898822Z",
     "shell.execute_reply": "2025-04-07T09:23:15.897589Z",
     "shell.execute_reply.started": "2025-04-07T09:23:15.891399Z"
    },
    "trusted": true
   },
   "outputs": [],
   "source": [
    "def plot_con_matrix(ax, y_test, y_pred, title):\n",
    "    # Define the classes of the classification problem\n",
    "    classes = ['No Fraud', 'Fraud']\n",
    "\n",
    "    # Compute the confusion matrix\n",
    "    con_matrix = confusion_matrix(y_test, y_pred)\n",
    "\n",
    "    # Compute the values for true negatives, false positives, false negatives, and true positives\n",
    "    tn, fp, fn, tp = con_matrix.ravel()\n",
    "\n",
    "    # Compute the false positive rate\n",
    "    fpr = fp / (fp + tn)\n",
    "\n",
    "    # Plot the confusion matrix using a heatmap\n",
    "    ax.imshow(con_matrix, interpolation='nearest', cmap=plt.cm.Blues)\n",
    "\n",
    "    # Define the tick marks and the labels for the plot\n",
    "    tick_marks = np.arange(len(classes))\n",
    "    ax.set_xticks(tick_marks)\n",
    "    ax.set_xticklabels(classes)\n",
    "    ax.set_yticks(tick_marks)\n",
    "    ax.set_yticklabels(classes)\n",
    "\n",
    "    # Add the count of each cell of the confusion matrix to the plot\n",
    "    fmt = 'd'\n",
    "    threshold = con_matrix.max() / 2.\n",
    "    for i, j in np.ndindex(con_matrix.shape):\n",
    "        ax.text(j, i, format(con_matrix[i, j], fmt),\n",
    "                 horizontalalignment=\"center\",\n",
    "                 color=\"white\" if con_matrix[i, j] > threshold else \"black\")\n",
    "\n",
    "    # Add labels to the plot\n",
    "    ax.set_xlabel('Predicted label')\n",
    "    ax.set_ylabel('True label')\n",
    "    ax.set_title(f'{title} with {fpr*100:.2f}% FPR')"
   ]
  },
  {
   "cell_type": "code",
   "execution_count": 33,
   "metadata": {
    "execution": {
     "iopub.execute_input": "2025-04-07T09:23:18.500959Z",
     "iopub.status.busy": "2025-04-07T09:23:18.500570Z",
     "iopub.status.idle": "2025-04-07T09:23:18.506824Z",
     "shell.execute_reply": "2025-04-07T09:23:18.505670Z",
     "shell.execute_reply.started": "2025-04-07T09:23:18.500921Z"
    },
    "trusted": true
   },
   "outputs": [],
   "source": [
    "def print_cv_results(model):\n",
    "    # Get the parameter and score arrays from the cv_results_ dictionary\n",
    "    means = model.cv_results_['mean_test_score']\n",
    "    params = model.cv_results_['params']\n",
    "\n",
    "    # Combine the arrays using zip()\n",
    "    combined_results = zip(means, params)\n",
    "\n",
    "    # Sort the combined array by mean_test_score in descending order\n",
    "    sorted_results = sorted(combined_results, key=lambda x: x[0], reverse=True)\n",
    "\n",
    "    # Print the mean test score and the hyperparameters as a formatted string\n",
    "    for mean, param in sorted_results:\n",
    "        print(\"mean_test_score: %f, params: %r\" % (mean, param))"
   ]
  },
  {
   "cell_type": "code",
   "execution_count": 34,
   "metadata": {
    "execution": {
     "iopub.execute_input": "2025-04-07T09:23:18.834146Z",
     "iopub.status.busy": "2025-04-07T09:23:18.833732Z",
     "iopub.status.idle": "2025-04-07T09:23:18.840397Z",
     "shell.execute_reply": "2025-04-07T09:23:18.839174Z",
     "shell.execute_reply.started": "2025-04-07T09:23:18.834106Z"
    },
    "trusted": true
   },
   "outputs": [],
   "source": [
    "def plot_roc_curves(fpr_list, tpr_list, label_list):\n",
    "    plt.figure(figsize=(8, 8))\n",
    "    for i in range(len(fpr_list)):\n",
    "        # Compute the ROC AUC score\n",
    "        roc_auc_score = auc(fpr_list[i], tpr_list[i])\n",
    "        # Plot the ROC curve\n",
    "        plt.plot(fpr_list[i], tpr_list[i], label=f'{label_list[i]} (AUC={roc_auc_score:.2f})')\n",
    "    \n",
    "    # Plot the random classifier curve\n",
    "    plt.plot([0, 1], [0, 1], 'k--', label='Random')\n",
    "    \n",
    "    # Set the plot labels and title\n",
    "    plt.xlabel('False Positive Rate')\n",
    "    plt.ylabel('True Positive Rate')\n",
    "    plt.title('Receiver Operating Characteristic (ROC) Curve')\n",
    "    plt.legend()\n",
    "    plt.show()\n"
   ]
  },
  {
   "cell_type": "code",
   "execution_count": 35,
   "metadata": {
    "execution": {
     "iopub.execute_input": "2025-04-07T09:23:20.759524Z",
     "iopub.status.busy": "2025-04-07T09:23:20.759172Z",
     "iopub.status.idle": "2025-04-07T09:23:20.767100Z",
     "shell.execute_reply": "2025-04-07T09:23:20.765954Z",
     "shell.execute_reply.started": "2025-04-07T09:23:20.759493Z"
    },
    "trusted": true
   },
   "outputs": [],
   "source": [
    "def test_classifier(classifier, X_test, y_test):\n",
    "    \"\"\"\n",
    "    Evaluates a binary classifier by generating ROC curves, classification reports, and confusion matrices.\n",
    "    \n",
    "    Parameters:\n",
    "    -----------\n",
    "    classifier : classifier object\n",
    "        Binary classifier object to be evaluated.\n",
    "    X_test : numpy.ndarray or pandas.DataFrame\n",
    "        Test feature data.\n",
    "    y_test : numpy.ndarray or pandas.Series\n",
    "        Test target labels.\n",
    "        \n",
    "    Returns:\n",
    "    --------\n",
    "    tuple : A tuple containing four values - false positive rate (fpr), true positive rate (tpr),\n",
    "            default recall, and target recall.\n",
    "    \"\"\"\n",
    "    \n",
    "    # Predict class probabilities and labels using the trained classifier\n",
    "    y_pred = classifier.predict(X_test)\n",
    "    y_prob = classifier.predict_proba(X_test)[:, 1]\n",
    "\n",
    "    # Calculate the false positive rate and true positive rate for different threshold values\n",
    "    fpr, tpr, thresholds = roc_curve(y_test, y_prob)\n",
    "\n",
    "    # Choose a false positive rate threshold based on the ROC curve\n",
    "    target_fpr = 0.05\n",
    "    threshold_idx = np.argmin(np.abs(fpr - target_fpr))\n",
    "    threshold = thresholds[threshold_idx]\n",
    "    \n",
    "    # Make predictions on the testing set using the threshold\n",
    "    y_pred_threshold = (y_prob >= threshold).astype(int)\n",
    "    \n",
    "    # Print the classification report for both default and target threshold\n",
    "    default_recall = print_cls_report(y_test, y_pred, title=\"Default Threshold\")\n",
    "    target_recall = print_cls_report(y_test, y_pred_threshold, title=f'Target Threshold @ {threshold:.2f}')\n",
    "\n",
    "    # Plot confusion matrix\n",
    "    fig, (ax1, ax2) = plt.subplots(1, 2, figsize=(10, 5))\n",
    "    \n",
    "    default_matrix = plot_con_matrix(ax1, y_test, y_pred, title='Default Threshold @ 0.50')\n",
    "    target_matrix = plot_con_matrix(ax2, y_test, y_pred_threshold, title=f'Target Threshold @ {threshold:.2f}')\n",
    "\n",
    "    # Adjust subplots for better visibility\n",
    "    plt.tight_layout()\n",
    "    \n",
    "    # Display the plots\n",
    "    plt.show()\n",
    "\n",
    "    return fpr, tpr, default_recall, target_recall\n"
   ]
  },
  {
   "cell_type": "code",
   "execution_count": 17,
   "metadata": {
    "execution": {
     "iopub.execute_input": "2025-04-07T09:23:25.100285Z",
     "iopub.status.busy": "2025-04-07T09:23:25.099887Z",
     "iopub.status.idle": "2025-04-07T09:23:30.511484Z",
     "shell.execute_reply": "2025-04-07T09:23:30.510387Z",
     "shell.execute_reply.started": "2025-04-07T09:23:25.100251Z"
    },
    "trusted": true
   },
   "outputs": [
    {
     "name": "stdout",
     "output_type": "stream",
     "text": [
      "Requirement already satisfied: xgboost in /usr/local/lib/python3.10/dist-packages (2.0.3)\n",
      "Requirement already satisfied: lightgbm in /usr/local/lib/python3.10/dist-packages (4.5.0)\n",
      "Requirement already satisfied: numpy in /usr/local/lib/python3.10/dist-packages (from xgboost) (1.26.4)\n",
      "Requirement already satisfied: scipy in /usr/local/lib/python3.10/dist-packages (from xgboost) (1.13.1)\n",
      "Requirement already satisfied: mkl_fft in /usr/local/lib/python3.10/dist-packages (from numpy->xgboost) (1.3.8)\n",
      "Requirement already satisfied: mkl_random in /usr/local/lib/python3.10/dist-packages (from numpy->xgboost) (1.2.4)\n",
      "Requirement already satisfied: mkl_umath in /usr/local/lib/python3.10/dist-packages (from numpy->xgboost) (0.1.1)\n",
      "Requirement already satisfied: mkl in /usr/local/lib/python3.10/dist-packages (from numpy->xgboost) (2025.0.1)\n",
      "Requirement already satisfied: tbb4py in /usr/local/lib/python3.10/dist-packages (from numpy->xgboost) (2022.0.0)\n",
      "Requirement already satisfied: mkl-service in /usr/local/lib/python3.10/dist-packages (from numpy->xgboost) (2.4.1)\n",
      "Requirement already satisfied: intel-openmp>=2024 in /usr/local/lib/python3.10/dist-packages (from mkl->numpy->xgboost) (2024.2.0)\n",
      "Requirement already satisfied: tbb==2022.* in /usr/local/lib/python3.10/dist-packages (from mkl->numpy->xgboost) (2022.0.0)\n",
      "Requirement already satisfied: tcmlib==1.* in /usr/local/lib/python3.10/dist-packages (from tbb==2022.*->mkl->numpy->xgboost) (1.2.0)\n",
      "Requirement already satisfied: intel-cmplr-lib-rt in /usr/local/lib/python3.10/dist-packages (from mkl_umath->numpy->xgboost) (2024.2.0)\n",
      "Requirement already satisfied: intel-cmplr-lib-ur==2024.2.0 in /usr/local/lib/python3.10/dist-packages (from intel-openmp>=2024->mkl->numpy->xgboost) (2024.2.0)\n"
     ]
    }
   ],
   "source": [
    "!pip install xgboost lightgbm"
   ]
  },
  {
   "cell_type": "code",
   "execution_count": 22,
   "metadata": {
    "execution": {
     "iopub.execute_input": "2025-04-07T09:23:31.459182Z",
     "iopub.status.busy": "2025-04-07T09:23:31.458754Z",
     "iopub.status.idle": "2025-04-07T09:23:34.767118Z",
     "shell.execute_reply": "2025-04-07T09:23:34.766177Z",
     "shell.execute_reply.started": "2025-04-07T09:23:31.459143Z"
    },
    "trusted": true
   },
   "outputs": [],
   "source": [
    "# Importing tree-based classification algorithms\n",
    "from sklearn.tree import DecisionTreeClassifier\n",
    "from sklearn.ensemble import RandomForestClassifier\n",
    "from xgboost import XGBClassifier\n",
    "from lightgbm import LGBMClassifier"
   ]
  },
  {
   "cell_type": "code",
   "execution_count": 13,
   "metadata": {
    "execution": {
     "iopub.execute_input": "2025-04-07T09:23:48.981307Z",
     "iopub.status.busy": "2025-04-07T09:23:48.980586Z",
     "iopub.status.idle": "2025-04-07T09:23:49.093542Z",
     "shell.execute_reply": "2025-04-07T09:23:49.092537Z",
     "shell.execute_reply.started": "2025-04-07T09:23:48.981271Z"
    },
    "trusted": true
   },
   "outputs": [],
   "source": [
    "# Separate the feature matrix and target variable\n",
    "X = new_df.drop(['fraud_bool', 'pattern','transaction_id', 'sender_id', 'receiver_id', 'timestamp', 'zip_code', 'ip_address', 'session_id', 'device_fingerprint','transaction_date'], axis=1)\n",
    "y = new_df['fraud_bool']"
   ]
  },
  {
   "cell_type": "code",
   "execution_count": 14,
   "metadata": {
    "execution": {
     "iopub.execute_input": "2025-04-07T09:23:49.493209Z",
     "iopub.status.busy": "2025-04-07T09:23:49.492842Z",
     "iopub.status.idle": "2025-04-07T09:23:49.837379Z",
     "shell.execute_reply": "2025-04-07T09:23:49.836168Z",
     "shell.execute_reply.started": "2025-04-07T09:23:49.493180Z"
    },
    "trusted": true
   },
   "outputs": [],
   "source": [
    "X= X.dropna()\n",
    "y = y[X.index]"
   ]
  },
  {
   "cell_type": "code",
   "execution_count": 15,
   "metadata": {
    "execution": {
     "iopub.execute_input": "2025-04-07T09:24:27.380367Z",
     "iopub.status.busy": "2025-04-07T09:24:27.379957Z",
     "iopub.status.idle": "2025-04-07T09:25:23.285688Z",
     "shell.execute_reply": "2025-04-07T09:25:23.284679Z",
     "shell.execute_reply.started": "2025-04-07T09:24:27.380334Z"
    },
    "trusted": true
   },
   "outputs": [
    {
     "name": "stdout",
     "output_type": "stream",
     "text": [
      "Test dataset samples per class Counter({0: 986416, 1: 12798})\n",
      "Resampled dataset shape Counter({0: 127980, 1: 12798})\n",
      "CPU times: user 3min 20s, sys: 3.67 s, total: 3min 24s\n",
      "Wall time: 57.8 s\n"
     ]
    }
   ],
   "source": [
    "%%time\n",
    "\n",
    "# Perform NearMiss undersampling to handle imbalanced data\n",
    "print(f'Test dataset samples per class {Counter(y)}')\n",
    "\n",
    "# Define the NearMiss undersampling object with a sampling strategy of 0.1 and all available CPU cores\n",
    "nm = NearMiss(sampling_strategy=0.1, n_jobs=-1)\n",
    "\n",
    "# Perform NearMiss undersampling on the feature matrix X and target variable y\n",
    "X_nm, y_nm = nm.fit_resample(X, y)\n",
    "\n",
    "# Print the number of occurrences of each class in the resampled dataset\n",
    "print('Resampled dataset shape %s' % Counter(y_nm))"
   ]
  },
  {
   "cell_type": "code",
   "execution_count": 16,
   "metadata": {
    "execution": {
     "iopub.execute_input": "2025-04-07T09:25:23.287117Z",
     "iopub.status.busy": "2025-04-07T09:25:23.286823Z",
     "iopub.status.idle": "2025-04-07T09:25:23.291029Z",
     "shell.execute_reply": "2025-04-07T09:25:23.289989Z",
     "shell.execute_reply.started": "2025-04-07T09:25:23.287086Z"
    },
    "trusted": true
   },
   "outputs": [],
   "source": [
    "# Import the necessary library for splitting the data into training and testing sets\n",
    "from sklearn.model_selection import train_test_split"
   ]
  },
  {
   "cell_type": "code",
   "execution_count": 17,
   "metadata": {
    "execution": {
     "iopub.execute_input": "2025-04-07T09:25:23.292859Z",
     "iopub.status.busy": "2025-04-07T09:25:23.292556Z",
     "iopub.status.idle": "2025-04-07T09:25:23.451311Z",
     "shell.execute_reply": "2025-04-07T09:25:23.450151Z",
     "shell.execute_reply.started": "2025-04-07T09:25:23.292834Z"
    },
    "trusted": true
   },
   "outputs": [],
   "source": [
    "# Split the resampled data into training and testing sets\n",
    "X_train, X_test, y_train, y_test = train_test_split(X_nm, y_nm, test_size=0.25, random_state=42, stratify=y_nm)"
   ]
  },
  {
   "cell_type": "code",
   "execution_count": 18,
   "metadata": {
    "execution": {
     "iopub.execute_input": "2025-04-07T09:25:23.452905Z",
     "iopub.status.busy": "2025-04-07T09:25:23.452507Z",
     "iopub.status.idle": "2025-04-07T09:25:23.628994Z",
     "shell.execute_reply": "2025-04-07T09:25:23.628193Z",
     "shell.execute_reply.started": "2025-04-07T09:25:23.452864Z"
    },
    "trusted": true
   },
   "outputs": [],
   "source": [
    "# Get the indices of the encoded features in the training set\n",
    "encoded_features = [X_train.columns.get_loc(str(feature)) for feature in X_train.columns if X_train[feature].nunique() >= 2 and X_train[feature].nunique() < 10]"
   ]
  },
  {
   "cell_type": "code",
   "execution_count": null,
   "metadata": {
    "execution": {
     "iopub.execute_input": "2025-04-06T12:53:36.106018Z",
     "iopub.status.busy": "2025-04-06T12:53:36.105735Z",
     "iopub.status.idle": "2025-04-06T12:53:36.109484Z",
     "shell.execute_reply": "2025-04-06T12:53:36.108643Z",
     "shell.execute_reply.started": "2025-04-06T12:53:36.105993Z"
    },
    "trusted": true
   },
   "outputs": [],
   "source": [
    "# Importing the pickle library to save and load machine learning models\n",
    "import pickle"
   ]
  },
  {
   "cell_type": "code",
   "execution_count": null,
   "metadata": {
    "execution": {
     "iopub.execute_input": "2025-04-06T12:53:36.665852Z",
     "iopub.status.busy": "2025-04-06T12:53:36.665489Z",
     "iopub.status.idle": "2025-04-06T12:53:36.670568Z",
     "shell.execute_reply": "2025-04-06T12:53:36.669402Z",
     "shell.execute_reply.started": "2025-04-06T12:53:36.665823Z"
    },
    "trusted": true
   },
   "outputs": [],
   "source": [
    "# Instantiate a DecisionTreeClassifier model\n",
    "dt = DecisionTreeClassifier()\n",
    "\n",
    "# Define a dictionary of hyperparameters for DecisionTreeClassifier\n",
    "dt_params = {'decisiontreeclassifier__criterion': ['gini', 'entropy'],\n",
    "             'decisiontreeclassifier__max_depth': [2, 4, 6, 8, 10],\n",
    "             'decisiontreeclassifier__max_features': ['sqrt', 'log2']\n",
    "            }"
   ]
  },
  {
   "cell_type": "code",
   "execution_count": null,
   "metadata": {
    "execution": {
     "iopub.execute_input": "2025-04-06T12:53:38.121092Z",
     "iopub.status.busy": "2025-04-06T12:53:38.120716Z",
     "iopub.status.idle": "2025-04-06T13:02:25.706116Z",
     "shell.execute_reply": "2025-04-06T13:02:25.704621Z",
     "shell.execute_reply.started": "2025-04-06T12:53:38.121066Z"
    },
    "trusted": true
   },
   "outputs": [],
   "source": [
    "%%time\n",
    "\n",
    "# Train a DecisionTree classifier using 'train_classifier' function and the given parameters\n",
    "dt_model = train_classifier(dt, dt_params, X_train, y_train, encoded_features)"
   ]
  },
  {
   "cell_type": "code",
   "execution_count": null,
   "metadata": {
    "execution": {
     "iopub.execute_input": "2025-04-06T13:02:25.707247Z",
     "iopub.status.busy": "2025-04-06T13:02:25.706995Z",
     "iopub.status.idle": "2025-04-06T13:02:25.712604Z",
     "shell.execute_reply": "2025-04-06T13:02:25.711470Z",
     "shell.execute_reply.started": "2025-04-06T13:02:25.707223Z"
    },
    "trusted": true
   },
   "outputs": [],
   "source": [
    "print_cv_results(dt_model)"
   ]
  },
  {
   "cell_type": "code",
   "execution_count": null,
   "metadata": {
    "execution": {
     "iopub.execute_input": "2025-04-06T13:02:25.713637Z",
     "iopub.status.busy": "2025-04-06T13:02:25.713439Z",
     "iopub.status.idle": "2025-04-06T13:02:25.952054Z",
     "shell.execute_reply": "2025-04-06T13:02:25.950948Z",
     "shell.execute_reply.started": "2025-04-06T13:02:25.713617Z"
    },
    "trusted": true
   },
   "outputs": [],
   "source": [
    "# Testing the DecisionTree model using the test data and calculating metrics\n",
    "dt_fpr, dt_tpr, dt_default_recall, dt_target_recall = test_classifier(dt_model, X_test, y_test)"
   ]
  },
  {
   "cell_type": "code",
   "execution_count": null,
   "metadata": {
    "execution": {
     "iopub.execute_input": "2025-04-06T13:03:45.934332Z",
     "iopub.status.busy": "2025-04-06T13:03:45.933910Z",
     "iopub.status.idle": "2025-04-06T13:03:45.939588Z",
     "shell.execute_reply": "2025-04-06T13:03:45.938321Z",
     "shell.execute_reply.started": "2025-04-06T13:03:45.934299Z"
    },
    "trusted": true
   },
   "outputs": [],
   "source": [
    "# Instantiate a RandomForestClassifier model\n",
    "rf = RandomForestClassifier()\n",
    "\n",
    "# Define a dictionary of hyperparameters for RandomForestClassifier\n",
    "rf_params = {'randomforestclassifier__n_estimators': [20, 40, 60, 80, 100],\n",
    "            'randomforestclassifier__criterion': ['gini', 'entropy'],\n",
    "            'randomforestclassifier__max_depth': [2, 4, 6, 8, 10],\n",
    "            'randomforestclassifier__max_features': ['sqrt', 'log2']\n",
    "            }"
   ]
  },
  {
   "cell_type": "code",
   "execution_count": null,
   "metadata": {
    "execution": {
     "iopub.execute_input": "2025-04-06T13:03:58.115555Z",
     "iopub.status.busy": "2025-04-06T13:03:58.115124Z",
     "iopub.status.idle": "2025-04-06T13:13:22.026178Z",
     "shell.execute_reply": "2025-04-06T13:13:22.024604Z",
     "shell.execute_reply.started": "2025-04-06T13:03:58.115521Z"
    },
    "trusted": true
   },
   "outputs": [],
   "source": [
    "%%time\n",
    "\n",
    "# Train a RandomForest classifier using 'train_classifier' function and the given parameters\n",
    "rf_model = train_classifier(rf, rf_params, X_train, y_train, encoded_features)"
   ]
  },
  {
   "cell_type": "code",
   "execution_count": null,
   "metadata": {
    "execution": {
     "iopub.execute_input": "2025-04-06T13:13:22.027400Z",
     "iopub.status.busy": "2025-04-06T13:13:22.027107Z",
     "iopub.status.idle": "2025-04-06T13:13:22.032610Z",
     "shell.execute_reply": "2025-04-06T13:13:22.031360Z",
     "shell.execute_reply.started": "2025-04-06T13:13:22.027373Z"
    },
    "trusted": true
   },
   "outputs": [],
   "source": [
    "print_cv_results(rf_model)"
   ]
  },
  {
   "cell_type": "code",
   "execution_count": null,
   "metadata": {
    "execution": {
     "iopub.execute_input": "2025-04-06T13:13:22.033762Z",
     "iopub.status.busy": "2025-04-06T13:13:22.033425Z",
     "iopub.status.idle": "2025-04-06T13:13:22.713880Z",
     "shell.execute_reply": "2025-04-06T13:13:22.712798Z",
     "shell.execute_reply.started": "2025-04-06T13:13:22.033725Z"
    },
    "trusted": true
   },
   "outputs": [],
   "source": [
    "# Testing the RandomForest model using the test data and calculating metrics\n",
    "rf_fpr, rf_tpr, rf_default_recall, rf_target_recall = test_classifier(rf_model, X_test, y_test)"
   ]
  },
  {
   "cell_type": "code",
   "execution_count": null,
   "metadata": {
    "execution": {
     "iopub.execute_input": "2025-04-06T13:15:08.575024Z",
     "iopub.status.busy": "2025-04-06T13:15:08.574631Z",
     "iopub.status.idle": "2025-04-06T13:15:08.580070Z",
     "shell.execute_reply": "2025-04-06T13:15:08.579239Z",
     "shell.execute_reply.started": "2025-04-06T13:15:08.574995Z"
    },
    "trusted": true
   },
   "outputs": [],
   "source": [
    "# Instantiate a XGBClassifier model with GPU acceleration for training\n",
    "xgb = XGBClassifier(tree_method='hist')\n",
    "\n",
    "# Define a dictionary of hyperparameters for XGBClassifier\n",
    "xgb_params = {'xgbclassifier__n_estimators': [20, 40, 60, 80, 100],\n",
    "              'xgbclassifier__max_depth': [2, 4, 6, 8, 10],\n",
    "              'xgbclassifier__learning_rate': [0.05, 0.1, 0.15, 0.20],\n",
    "              'xgbclassifier__min_child_weight': [1, 2, 3, 4],\n",
    "              'xgbclassifier__subsample': [0.6, 0.8, 1.0],\n",
    "              'xgbclassifier__colsample_bytree': [0.6, 0.8, 1.0]\n",
    "             }"
   ]
  },
  {
   "cell_type": "code",
   "execution_count": null,
   "metadata": {
    "execution": {
     "iopub.execute_input": "2025-04-06T13:15:19.478886Z",
     "iopub.status.busy": "2025-04-06T13:15:19.478507Z",
     "iopub.status.idle": "2025-04-06T13:24:20.943082Z",
     "shell.execute_reply": "2025-04-06T13:24:20.941489Z",
     "shell.execute_reply.started": "2025-04-06T13:15:19.478859Z"
    },
    "trusted": true
   },
   "outputs": [],
   "source": [
    "%%time\n",
    "\n",
    "# Train a XGBoost classifier using 'train_classifier' function and the given parameters\n",
    "xgb_model = train_classifier(xgb, xgb_params, X_train, y_train, encoded_features)"
   ]
  },
  {
   "cell_type": "code",
   "execution_count": null,
   "metadata": {
    "execution": {
     "iopub.execute_input": "2025-04-06T13:24:20.944712Z",
     "iopub.status.busy": "2025-04-06T13:24:20.944209Z",
     "iopub.status.idle": "2025-04-06T13:24:20.949668Z",
     "shell.execute_reply": "2025-04-06T13:24:20.948529Z",
     "shell.execute_reply.started": "2025-04-06T13:24:20.944683Z"
    },
    "trusted": true
   },
   "outputs": [],
   "source": [
    "print_cv_results(xgb_model)"
   ]
  },
  {
   "cell_type": "code",
   "execution_count": null,
   "metadata": {
    "execution": {
     "iopub.execute_input": "2025-04-06T13:24:20.951054Z",
     "iopub.status.busy": "2025-04-06T13:24:20.950758Z",
     "iopub.status.idle": "2025-04-06T13:24:21.285255Z",
     "shell.execute_reply": "2025-04-06T13:24:21.283917Z",
     "shell.execute_reply.started": "2025-04-06T13:24:20.951033Z"
    },
    "trusted": true
   },
   "outputs": [],
   "source": [
    "# Testing the XGBoost model using the test data and calculating metrics\n",
    "xgb_fpr, xgb_tpr, xgb_default_recall, xgb_target_recall = test_classifier(xgb_model, X_test, y_test)"
   ]
  },
  {
   "cell_type": "code",
   "execution_count": null,
   "metadata": {
    "execution": {
     "iopub.execute_input": "2025-04-06T14:05:30.809529Z",
     "iopub.status.busy": "2025-04-06T14:05:30.809065Z",
     "iopub.status.idle": "2025-04-06T14:05:31.024866Z",
     "shell.execute_reply": "2025-04-06T14:05:31.023127Z",
     "shell.execute_reply.started": "2025-04-06T14:05:30.809496Z"
    },
    "trusted": true
   },
   "outputs": [],
   "source": [
    "fpr_list = [dt_fpr, rf_fpr, xgb_fpr]\n",
    "tpr_list = [dt_tpr, rf_tpr, xgb_tpr]\n",
    "\n",
    "# Create a list of labels for each classifier\n",
    "label_list = ['DecisionTree', 'RandomForest', 'XGBoost']\n",
    "\n",
    "# Plot ROC curves for each classifier using the FPR, TPR, and label lists\n",
    "plot_roc_curves(fpr_list, tpr_list, label_list)"
   ]
  },
  {
   "cell_type": "code",
   "execution_count": null,
   "metadata": {
    "execution": {
     "iopub.execute_input": "2025-04-06T14:06:15.252226Z",
     "iopub.status.busy": "2025-04-06T14:06:15.251817Z",
     "iopub.status.idle": "2025-04-06T14:06:15.263088Z",
     "shell.execute_reply": "2025-04-06T14:06:15.262190Z",
     "shell.execute_reply.started": "2025-04-06T14:06:15.252196Z"
    },
    "trusted": true
   },
   "outputs": [],
   "source": [
    "# Create a dataframe with the recall scores for each model\n",
    "data = pd.DataFrame({\n",
    "    'Model': ['Decision Tree', 'Random Forest', 'XGBoost'],\n",
    "    'Default Recall Score': [dt_default_recall[1], rf_default_recall[1], xgb_default_recall[1]],\n",
    "    'Target Threshold Recall Score': [dt_target_recall[1], rf_target_recall[1], xgb_target_recall[1]]\n",
    "})\n",
    "\n",
    "# Sort the data by the threshold recall score in descending order\n",
    "data = data.sort_values(by='Target Threshold Recall Score', ascending=False)\n",
    "\n",
    "# Reshape the data\n",
    "data = pd.melt(data, id_vars='Model', var_name='Metric', value_name='Score')"
   ]
  },
  {
   "cell_type": "code",
   "execution_count": null,
   "metadata": {
    "execution": {
     "iopub.execute_input": "2025-04-06T14:06:24.895151Z",
     "iopub.status.busy": "2025-04-06T14:06:24.894761Z",
     "iopub.status.idle": "2025-04-06T14:06:25.136713Z",
     "shell.execute_reply": "2025-04-06T14:06:25.135692Z",
     "shell.execute_reply.started": "2025-04-06T14:06:24.895121Z"
    },
    "trusted": true
   },
   "outputs": [],
   "source": [
    "# Set up plot\n",
    "plt.figure(figsize=(16, 8))\n",
    "\n",
    "# Create grouped bar plot\n",
    "sns.barplot(\n",
    "    data=data,\n",
    "    x='Model',\n",
    "    y='Score',\n",
    "    hue='Metric',\n",
    "    palette=my_palette,\n",
    "    alpha=.6,\n",
    ")\n",
    "\n",
    "# Customize labels and legend\n",
    "plt.xlabel(\"Model\", fontsize=12)\n",
    "plt.ylabel(\"Recall Score\", fontsize=12)\n",
    "plt.xticks(rotation=45, fontsize=10)\n",
    "plt.yticks(fontsize=10)\n",
    "plt.title(\"Recall Scores for Fraud Class by Model and Threshold\", fontsize=14)\n",
    "plt.legend(title=\"Metric\", fontsize=10)\n",
    "\n",
    "# Display plot\n",
    "plt.show()"
   ]
  },
  {
   "cell_type": "code",
   "execution_count": null,
   "metadata": {
    "execution": {
     "iopub.execute_input": "2025-04-06T14:08:44.520591Z",
     "iopub.status.busy": "2025-04-06T14:08:44.520017Z",
     "iopub.status.idle": "2025-04-06T14:08:44.623014Z",
     "shell.execute_reply": "2025-04-06T14:08:44.621080Z",
     "shell.execute_reply.started": "2025-04-06T14:08:44.520464Z"
    },
    "trusted": true
   },
   "outputs": [],
   "source": [
    "import os\n",
    "import pickle\n",
    "\n",
    "# Create the models directory if it doesn't exist\n",
    "os.makedirs('/kaggle/working/models', exist_ok=True)\n",
    "\n",
    "# Save the models\n",
    "with open('/kaggle/working/models/dt_model.pkl', 'wb') as f:\n",
    "    pickle.dump(dt_model, f)\n",
    "\n",
    "with open('/kaggle/working/models/rf_model.pkl', 'wb') as f:\n",
    "    pickle.dump(rf_model, f)\n",
    "\n",
    "with open('/kaggle/working/models/xgb_model.pkl', 'wb') as f:\n",
    "    pickle.dump(xgb_model, f)\n"
   ]
  },
  {
   "cell_type": "code",
   "execution_count": 11,
   "metadata": {},
   "outputs": [],
   "source": [
    "#import SMOTNEC\n",
    "from imblearn.over_sampling import SMOTENC"
   ]
  },
  {
   "cell_type": "code",
   "execution_count": 19,
   "metadata": {
    "execution": {
     "iopub.execute_input": "2025-04-07T09:25:23.630312Z",
     "iopub.status.busy": "2025-04-07T09:25:23.629944Z",
     "iopub.status.idle": "2025-04-07T09:25:23.634648Z",
     "shell.execute_reply": "2025-04-07T09:25:23.633754Z",
     "shell.execute_reply.started": "2025-04-07T09:25:23.630277Z"
    },
    "trusted": true
   },
   "outputs": [],
   "source": [
    "# Apply SMOTENC to deal with imbalanced classes\n",
    "smote_nc = SMOTENC(categorical_features=encoded_features, sampling_strategy='minority', random_state=42)"
   ]
  },
  {
   "cell_type": "code",
   "execution_count": 20,
   "metadata": {
    "execution": {
     "execution_failed": "2025-04-07T09:33:45.650Z",
     "iopub.execute_input": "2025-04-07T09:25:39.961224Z",
     "iopub.status.busy": "2025-04-07T09:25:39.960753Z"
    },
    "trusted": true
   },
   "outputs": [
    {
     "name": "stdout",
     "output_type": "stream",
     "text": [
      "Train dataset samples per class Counter({0: 95985, 1: 9598})\n",
      "Resampled dataset shape Counter({0: 95985, 1: 95985})\n",
      "CPU times: user 2min 49s, sys: 1.61 s, total: 2min 51s\n",
      "Wall time: 2min 51s\n"
     ]
    }
   ],
   "source": [
    "%%time\n",
    "\n",
    "# Perform NearMiss undersampling to handle imbalanced data\n",
    "print(f'Train dataset samples per class {Counter(y_train)}')\n",
    "\n",
    "# Apply SMOTENC to deal with imbalanced classes\n",
    "sm = SMOTENC(categorical_features=encoded_features, sampling_strategy='minority', random_state=42)\n",
    "\n",
    "# Perform SMOTE oversampling on the feature matrix X_nm and target variable y_nm\n",
    "X_sm, y_sm = sm.fit_resample(X_train, y_train)\n",
    "\n",
    "# Print the number of occurrences of each class in the resampled dataset\n",
    "print('Resampled dataset shape %s' % Counter(y_sm))"
   ]
  },
  {
   "cell_type": "code",
   "execution_count": 24,
   "metadata": {
    "execution": {
     "execution_failed": "2025-04-07T09:33:45.653Z"
    },
    "trusted": true
   },
   "outputs": [],
   "source": [
    "# Instantiate final XGBClassifier model with GPU acceleration for training\n",
    "xgb_final = XGBClassifier(\n",
    "    device='gpu',\n",
    "    learning_rate= 0.2,\n",
    "    max_depth= 6,\n",
    "    min_child_weight= 1,\n",
    "    n_estimators= 100,\n",
    "    subsample= 0.6,\n",
    "    colsample_bytree= 1.0\n",
    "                        )"
   ]
  },
  {
   "cell_type": "code",
   "execution_count": 25,
   "metadata": {
    "execution": {
     "execution_failed": "2025-04-07T09:33:45.654Z"
    },
    "trusted": true
   },
   "outputs": [
    {
     "data": {
      "text/html": [
       "<style>#sk-container-id-1 {\n",
       "  /* Definition of color scheme common for light and dark mode */\n",
       "  --sklearn-color-text: #000;\n",
       "  --sklearn-color-text-muted: #666;\n",
       "  --sklearn-color-line: gray;\n",
       "  /* Definition of color scheme for unfitted estimators */\n",
       "  --sklearn-color-unfitted-level-0: #fff5e6;\n",
       "  --sklearn-color-unfitted-level-1: #f6e4d2;\n",
       "  --sklearn-color-unfitted-level-2: #ffe0b3;\n",
       "  --sklearn-color-unfitted-level-3: chocolate;\n",
       "  /* Definition of color scheme for fitted estimators */\n",
       "  --sklearn-color-fitted-level-0: #f0f8ff;\n",
       "  --sklearn-color-fitted-level-1: #d4ebff;\n",
       "  --sklearn-color-fitted-level-2: #b3dbfd;\n",
       "  --sklearn-color-fitted-level-3: cornflowerblue;\n",
       "\n",
       "  /* Specific color for light theme */\n",
       "  --sklearn-color-text-on-default-background: var(--sg-text-color, var(--theme-code-foreground, var(--jp-content-font-color1, black)));\n",
       "  --sklearn-color-background: var(--sg-background-color, var(--theme-background, var(--jp-layout-color0, white)));\n",
       "  --sklearn-color-border-box: var(--sg-text-color, var(--theme-code-foreground, var(--jp-content-font-color1, black)));\n",
       "  --sklearn-color-icon: #696969;\n",
       "\n",
       "  @media (prefers-color-scheme: dark) {\n",
       "    /* Redefinition of color scheme for dark theme */\n",
       "    --sklearn-color-text-on-default-background: var(--sg-text-color, var(--theme-code-foreground, var(--jp-content-font-color1, white)));\n",
       "    --sklearn-color-background: var(--sg-background-color, var(--theme-background, var(--jp-layout-color0, #111)));\n",
       "    --sklearn-color-border-box: var(--sg-text-color, var(--theme-code-foreground, var(--jp-content-font-color1, white)));\n",
       "    --sklearn-color-icon: #878787;\n",
       "  }\n",
       "}\n",
       "\n",
       "#sk-container-id-1 {\n",
       "  color: var(--sklearn-color-text);\n",
       "}\n",
       "\n",
       "#sk-container-id-1 pre {\n",
       "  padding: 0;\n",
       "}\n",
       "\n",
       "#sk-container-id-1 input.sk-hidden--visually {\n",
       "  border: 0;\n",
       "  clip: rect(1px 1px 1px 1px);\n",
       "  clip: rect(1px, 1px, 1px, 1px);\n",
       "  height: 1px;\n",
       "  margin: -1px;\n",
       "  overflow: hidden;\n",
       "  padding: 0;\n",
       "  position: absolute;\n",
       "  width: 1px;\n",
       "}\n",
       "\n",
       "#sk-container-id-1 div.sk-dashed-wrapped {\n",
       "  border: 1px dashed var(--sklearn-color-line);\n",
       "  margin: 0 0.4em 0.5em 0.4em;\n",
       "  box-sizing: border-box;\n",
       "  padding-bottom: 0.4em;\n",
       "  background-color: var(--sklearn-color-background);\n",
       "}\n",
       "\n",
       "#sk-container-id-1 div.sk-container {\n",
       "  /* jupyter's `normalize.less` sets `[hidden] { display: none; }`\n",
       "     but bootstrap.min.css set `[hidden] { display: none !important; }`\n",
       "     so we also need the `!important` here to be able to override the\n",
       "     default hidden behavior on the sphinx rendered scikit-learn.org.\n",
       "     See: https://github.com/scikit-learn/scikit-learn/issues/21755 */\n",
       "  display: inline-block !important;\n",
       "  position: relative;\n",
       "}\n",
       "\n",
       "#sk-container-id-1 div.sk-text-repr-fallback {\n",
       "  display: none;\n",
       "}\n",
       "\n",
       "div.sk-parallel-item,\n",
       "div.sk-serial,\n",
       "div.sk-item {\n",
       "  /* draw centered vertical line to link estimators */\n",
       "  background-image: linear-gradient(var(--sklearn-color-text-on-default-background), var(--sklearn-color-text-on-default-background));\n",
       "  background-size: 2px 100%;\n",
       "  background-repeat: no-repeat;\n",
       "  background-position: center center;\n",
       "}\n",
       "\n",
       "/* Parallel-specific style estimator block */\n",
       "\n",
       "#sk-container-id-1 div.sk-parallel-item::after {\n",
       "  content: \"\";\n",
       "  width: 100%;\n",
       "  border-bottom: 2px solid var(--sklearn-color-text-on-default-background);\n",
       "  flex-grow: 1;\n",
       "}\n",
       "\n",
       "#sk-container-id-1 div.sk-parallel {\n",
       "  display: flex;\n",
       "  align-items: stretch;\n",
       "  justify-content: center;\n",
       "  background-color: var(--sklearn-color-background);\n",
       "  position: relative;\n",
       "}\n",
       "\n",
       "#sk-container-id-1 div.sk-parallel-item {\n",
       "  display: flex;\n",
       "  flex-direction: column;\n",
       "}\n",
       "\n",
       "#sk-container-id-1 div.sk-parallel-item:first-child::after {\n",
       "  align-self: flex-end;\n",
       "  width: 50%;\n",
       "}\n",
       "\n",
       "#sk-container-id-1 div.sk-parallel-item:last-child::after {\n",
       "  align-self: flex-start;\n",
       "  width: 50%;\n",
       "}\n",
       "\n",
       "#sk-container-id-1 div.sk-parallel-item:only-child::after {\n",
       "  width: 0;\n",
       "}\n",
       "\n",
       "/* Serial-specific style estimator block */\n",
       "\n",
       "#sk-container-id-1 div.sk-serial {\n",
       "  display: flex;\n",
       "  flex-direction: column;\n",
       "  align-items: center;\n",
       "  background-color: var(--sklearn-color-background);\n",
       "  padding-right: 1em;\n",
       "  padding-left: 1em;\n",
       "}\n",
       "\n",
       "\n",
       "/* Toggleable style: style used for estimator/Pipeline/ColumnTransformer box that is\n",
       "clickable and can be expanded/collapsed.\n",
       "- Pipeline and ColumnTransformer use this feature and define the default style\n",
       "- Estimators will overwrite some part of the style using the `sk-estimator` class\n",
       "*/\n",
       "\n",
       "/* Pipeline and ColumnTransformer style (default) */\n",
       "\n",
       "#sk-container-id-1 div.sk-toggleable {\n",
       "  /* Default theme specific background. It is overwritten whether we have a\n",
       "  specific estimator or a Pipeline/ColumnTransformer */\n",
       "  background-color: var(--sklearn-color-background);\n",
       "}\n",
       "\n",
       "/* Toggleable label */\n",
       "#sk-container-id-1 label.sk-toggleable__label {\n",
       "  cursor: pointer;\n",
       "  display: flex;\n",
       "  width: 100%;\n",
       "  margin-bottom: 0;\n",
       "  padding: 0.5em;\n",
       "  box-sizing: border-box;\n",
       "  text-align: center;\n",
       "  align-items: start;\n",
       "  justify-content: space-between;\n",
       "  gap: 0.5em;\n",
       "}\n",
       "\n",
       "#sk-container-id-1 label.sk-toggleable__label .caption {\n",
       "  font-size: 0.6rem;\n",
       "  font-weight: lighter;\n",
       "  color: var(--sklearn-color-text-muted);\n",
       "}\n",
       "\n",
       "#sk-container-id-1 label.sk-toggleable__label-arrow:before {\n",
       "  /* Arrow on the left of the label */\n",
       "  content: \"▸\";\n",
       "  float: left;\n",
       "  margin-right: 0.25em;\n",
       "  color: var(--sklearn-color-icon);\n",
       "}\n",
       "\n",
       "#sk-container-id-1 label.sk-toggleable__label-arrow:hover:before {\n",
       "  color: var(--sklearn-color-text);\n",
       "}\n",
       "\n",
       "/* Toggleable content - dropdown */\n",
       "\n",
       "#sk-container-id-1 div.sk-toggleable__content {\n",
       "  max-height: 0;\n",
       "  max-width: 0;\n",
       "  overflow: hidden;\n",
       "  text-align: left;\n",
       "  /* unfitted */\n",
       "  background-color: var(--sklearn-color-unfitted-level-0);\n",
       "}\n",
       "\n",
       "#sk-container-id-1 div.sk-toggleable__content.fitted {\n",
       "  /* fitted */\n",
       "  background-color: var(--sklearn-color-fitted-level-0);\n",
       "}\n",
       "\n",
       "#sk-container-id-1 div.sk-toggleable__content pre {\n",
       "  margin: 0.2em;\n",
       "  border-radius: 0.25em;\n",
       "  color: var(--sklearn-color-text);\n",
       "  /* unfitted */\n",
       "  background-color: var(--sklearn-color-unfitted-level-0);\n",
       "}\n",
       "\n",
       "#sk-container-id-1 div.sk-toggleable__content.fitted pre {\n",
       "  /* unfitted */\n",
       "  background-color: var(--sklearn-color-fitted-level-0);\n",
       "}\n",
       "\n",
       "#sk-container-id-1 input.sk-toggleable__control:checked~div.sk-toggleable__content {\n",
       "  /* Expand drop-down */\n",
       "  max-height: 200px;\n",
       "  max-width: 100%;\n",
       "  overflow: auto;\n",
       "}\n",
       "\n",
       "#sk-container-id-1 input.sk-toggleable__control:checked~label.sk-toggleable__label-arrow:before {\n",
       "  content: \"▾\";\n",
       "}\n",
       "\n",
       "/* Pipeline/ColumnTransformer-specific style */\n",
       "\n",
       "#sk-container-id-1 div.sk-label input.sk-toggleable__control:checked~label.sk-toggleable__label {\n",
       "  color: var(--sklearn-color-text);\n",
       "  background-color: var(--sklearn-color-unfitted-level-2);\n",
       "}\n",
       "\n",
       "#sk-container-id-1 div.sk-label.fitted input.sk-toggleable__control:checked~label.sk-toggleable__label {\n",
       "  background-color: var(--sklearn-color-fitted-level-2);\n",
       "}\n",
       "\n",
       "/* Estimator-specific style */\n",
       "\n",
       "/* Colorize estimator box */\n",
       "#sk-container-id-1 div.sk-estimator input.sk-toggleable__control:checked~label.sk-toggleable__label {\n",
       "  /* unfitted */\n",
       "  background-color: var(--sklearn-color-unfitted-level-2);\n",
       "}\n",
       "\n",
       "#sk-container-id-1 div.sk-estimator.fitted input.sk-toggleable__control:checked~label.sk-toggleable__label {\n",
       "  /* fitted */\n",
       "  background-color: var(--sklearn-color-fitted-level-2);\n",
       "}\n",
       "\n",
       "#sk-container-id-1 div.sk-label label.sk-toggleable__label,\n",
       "#sk-container-id-1 div.sk-label label {\n",
       "  /* The background is the default theme color */\n",
       "  color: var(--sklearn-color-text-on-default-background);\n",
       "}\n",
       "\n",
       "/* On hover, darken the color of the background */\n",
       "#sk-container-id-1 div.sk-label:hover label.sk-toggleable__label {\n",
       "  color: var(--sklearn-color-text);\n",
       "  background-color: var(--sklearn-color-unfitted-level-2);\n",
       "}\n",
       "\n",
       "/* Label box, darken color on hover, fitted */\n",
       "#sk-container-id-1 div.sk-label.fitted:hover label.sk-toggleable__label.fitted {\n",
       "  color: var(--sklearn-color-text);\n",
       "  background-color: var(--sklearn-color-fitted-level-2);\n",
       "}\n",
       "\n",
       "/* Estimator label */\n",
       "\n",
       "#sk-container-id-1 div.sk-label label {\n",
       "  font-family: monospace;\n",
       "  font-weight: bold;\n",
       "  display: inline-block;\n",
       "  line-height: 1.2em;\n",
       "}\n",
       "\n",
       "#sk-container-id-1 div.sk-label-container {\n",
       "  text-align: center;\n",
       "}\n",
       "\n",
       "/* Estimator-specific */\n",
       "#sk-container-id-1 div.sk-estimator {\n",
       "  font-family: monospace;\n",
       "  border: 1px dotted var(--sklearn-color-border-box);\n",
       "  border-radius: 0.25em;\n",
       "  box-sizing: border-box;\n",
       "  margin-bottom: 0.5em;\n",
       "  /* unfitted */\n",
       "  background-color: var(--sklearn-color-unfitted-level-0);\n",
       "}\n",
       "\n",
       "#sk-container-id-1 div.sk-estimator.fitted {\n",
       "  /* fitted */\n",
       "  background-color: var(--sklearn-color-fitted-level-0);\n",
       "}\n",
       "\n",
       "/* on hover */\n",
       "#sk-container-id-1 div.sk-estimator:hover {\n",
       "  /* unfitted */\n",
       "  background-color: var(--sklearn-color-unfitted-level-2);\n",
       "}\n",
       "\n",
       "#sk-container-id-1 div.sk-estimator.fitted:hover {\n",
       "  /* fitted */\n",
       "  background-color: var(--sklearn-color-fitted-level-2);\n",
       "}\n",
       "\n",
       "/* Specification for estimator info (e.g. \"i\" and \"?\") */\n",
       "\n",
       "/* Common style for \"i\" and \"?\" */\n",
       "\n",
       ".sk-estimator-doc-link,\n",
       "a:link.sk-estimator-doc-link,\n",
       "a:visited.sk-estimator-doc-link {\n",
       "  float: right;\n",
       "  font-size: smaller;\n",
       "  line-height: 1em;\n",
       "  font-family: monospace;\n",
       "  background-color: var(--sklearn-color-background);\n",
       "  border-radius: 1em;\n",
       "  height: 1em;\n",
       "  width: 1em;\n",
       "  text-decoration: none !important;\n",
       "  margin-left: 0.5em;\n",
       "  text-align: center;\n",
       "  /* unfitted */\n",
       "  border: var(--sklearn-color-unfitted-level-1) 1pt solid;\n",
       "  color: var(--sklearn-color-unfitted-level-1);\n",
       "}\n",
       "\n",
       ".sk-estimator-doc-link.fitted,\n",
       "a:link.sk-estimator-doc-link.fitted,\n",
       "a:visited.sk-estimator-doc-link.fitted {\n",
       "  /* fitted */\n",
       "  border: var(--sklearn-color-fitted-level-1) 1pt solid;\n",
       "  color: var(--sklearn-color-fitted-level-1);\n",
       "}\n",
       "\n",
       "/* On hover */\n",
       "div.sk-estimator:hover .sk-estimator-doc-link:hover,\n",
       ".sk-estimator-doc-link:hover,\n",
       "div.sk-label-container:hover .sk-estimator-doc-link:hover,\n",
       ".sk-estimator-doc-link:hover {\n",
       "  /* unfitted */\n",
       "  background-color: var(--sklearn-color-unfitted-level-3);\n",
       "  color: var(--sklearn-color-background);\n",
       "  text-decoration: none;\n",
       "}\n",
       "\n",
       "div.sk-estimator.fitted:hover .sk-estimator-doc-link.fitted:hover,\n",
       ".sk-estimator-doc-link.fitted:hover,\n",
       "div.sk-label-container:hover .sk-estimator-doc-link.fitted:hover,\n",
       ".sk-estimator-doc-link.fitted:hover {\n",
       "  /* fitted */\n",
       "  background-color: var(--sklearn-color-fitted-level-3);\n",
       "  color: var(--sklearn-color-background);\n",
       "  text-decoration: none;\n",
       "}\n",
       "\n",
       "/* Span, style for the box shown on hovering the info icon */\n",
       ".sk-estimator-doc-link span {\n",
       "  display: none;\n",
       "  z-index: 9999;\n",
       "  position: relative;\n",
       "  font-weight: normal;\n",
       "  right: .2ex;\n",
       "  padding: .5ex;\n",
       "  margin: .5ex;\n",
       "  width: min-content;\n",
       "  min-width: 20ex;\n",
       "  max-width: 50ex;\n",
       "  color: var(--sklearn-color-text);\n",
       "  box-shadow: 2pt 2pt 4pt #999;\n",
       "  /* unfitted */\n",
       "  background: var(--sklearn-color-unfitted-level-0);\n",
       "  border: .5pt solid var(--sklearn-color-unfitted-level-3);\n",
       "}\n",
       "\n",
       ".sk-estimator-doc-link.fitted span {\n",
       "  /* fitted */\n",
       "  background: var(--sklearn-color-fitted-level-0);\n",
       "  border: var(--sklearn-color-fitted-level-3);\n",
       "}\n",
       "\n",
       ".sk-estimator-doc-link:hover span {\n",
       "  display: block;\n",
       "}\n",
       "\n",
       "/* \"?\"-specific style due to the `<a>` HTML tag */\n",
       "\n",
       "#sk-container-id-1 a.estimator_doc_link {\n",
       "  float: right;\n",
       "  font-size: 1rem;\n",
       "  line-height: 1em;\n",
       "  font-family: monospace;\n",
       "  background-color: var(--sklearn-color-background);\n",
       "  border-radius: 1rem;\n",
       "  height: 1rem;\n",
       "  width: 1rem;\n",
       "  text-decoration: none;\n",
       "  /* unfitted */\n",
       "  color: var(--sklearn-color-unfitted-level-1);\n",
       "  border: var(--sklearn-color-unfitted-level-1) 1pt solid;\n",
       "}\n",
       "\n",
       "#sk-container-id-1 a.estimator_doc_link.fitted {\n",
       "  /* fitted */\n",
       "  border: var(--sklearn-color-fitted-level-1) 1pt solid;\n",
       "  color: var(--sklearn-color-fitted-level-1);\n",
       "}\n",
       "\n",
       "/* On hover */\n",
       "#sk-container-id-1 a.estimator_doc_link:hover {\n",
       "  /* unfitted */\n",
       "  background-color: var(--sklearn-color-unfitted-level-3);\n",
       "  color: var(--sklearn-color-background);\n",
       "  text-decoration: none;\n",
       "}\n",
       "\n",
       "#sk-container-id-1 a.estimator_doc_link.fitted:hover {\n",
       "  /* fitted */\n",
       "  background-color: var(--sklearn-color-fitted-level-3);\n",
       "}\n",
       "</style><div id=\"sk-container-id-1\" class=\"sk-top-container\"><div class=\"sk-text-repr-fallback\"><pre>XGBClassifier(base_score=None, booster=None, callbacks=None,\n",
       "              colsample_bylevel=None, colsample_bynode=None,\n",
       "              colsample_bytree=1.0, device=&#x27;gpu&#x27;, early_stopping_rounds=None,\n",
       "              enable_categorical=False, eval_metric=None, feature_types=None,\n",
       "              feature_weights=None, gamma=None, grow_policy=None,\n",
       "              importance_type=None, interaction_constraints=None,\n",
       "              learning_rate=0.2, max_bin=None, max_cat_threshold=None,\n",
       "              max_cat_to_onehot=None, max_delta_step=None, max_depth=6,\n",
       "              max_leaves=None, min_child_weight=1, missing=nan,\n",
       "              monotone_constraints=None, multi_strategy=None, n_estimators=100,\n",
       "              n_jobs=None, num_parallel_tree=None, ...)</pre><b>In a Jupyter environment, please rerun this cell to show the HTML representation or trust the notebook. <br />On GitHub, the HTML representation is unable to render, please try loading this page with nbviewer.org.</b></div><div class=\"sk-container\" hidden><div class=\"sk-item\"><div class=\"sk-estimator fitted sk-toggleable\"><input class=\"sk-toggleable__control sk-hidden--visually\" id=\"sk-estimator-id-1\" type=\"checkbox\" checked><label for=\"sk-estimator-id-1\" class=\"sk-toggleable__label fitted sk-toggleable__label-arrow\"><div><div>XGBClassifier</div></div><div><a class=\"sk-estimator-doc-link fitted\" rel=\"noreferrer\" target=\"_blank\" href=\"https://xgboost.readthedocs.io/en/release_3.0.0/python/python_api.html#xgboost.XGBClassifier\">?<span>Documentation for XGBClassifier</span></a><span class=\"sk-estimator-doc-link fitted\">i<span>Fitted</span></span></div></label><div class=\"sk-toggleable__content fitted\"><pre>XGBClassifier(base_score=None, booster=None, callbacks=None,\n",
       "              colsample_bylevel=None, colsample_bynode=None,\n",
       "              colsample_bytree=1.0, device=&#x27;gpu&#x27;, early_stopping_rounds=None,\n",
       "              enable_categorical=False, eval_metric=None, feature_types=None,\n",
       "              feature_weights=None, gamma=None, grow_policy=None,\n",
       "              importance_type=None, interaction_constraints=None,\n",
       "              learning_rate=0.2, max_bin=None, max_cat_threshold=None,\n",
       "              max_cat_to_onehot=None, max_delta_step=None, max_depth=6,\n",
       "              max_leaves=None, min_child_weight=1, missing=nan,\n",
       "              monotone_constraints=None, multi_strategy=None, n_estimators=100,\n",
       "              n_jobs=None, num_parallel_tree=None, ...)</pre></div> </div></div></div></div>"
      ],
      "text/plain": [
       "XGBClassifier(base_score=None, booster=None, callbacks=None,\n",
       "              colsample_bylevel=None, colsample_bynode=None,\n",
       "              colsample_bytree=1.0, device='gpu', early_stopping_rounds=None,\n",
       "              enable_categorical=False, eval_metric=None, feature_types=None,\n",
       "              feature_weights=None, gamma=None, grow_policy=None,\n",
       "              importance_type=None, interaction_constraints=None,\n",
       "              learning_rate=0.2, max_bin=None, max_cat_threshold=None,\n",
       "              max_cat_to_onehot=None, max_delta_step=None, max_depth=6,\n",
       "              max_leaves=None, min_child_weight=1, missing=nan,\n",
       "              monotone_constraints=None, multi_strategy=None, n_estimators=100,\n",
       "              n_jobs=None, num_parallel_tree=None, ...)"
      ]
     },
     "execution_count": 25,
     "metadata": {},
     "output_type": "execute_result"
    }
   ],
   "source": [
    "# Train final XGBoost classifier using the best parameters\n",
    "xgb_final.fit(X_sm, y_sm)"
   ]
  },
  {
   "cell_type": "code",
   "execution_count": 36,
   "metadata": {
    "execution": {
     "execution_failed": "2025-04-07T09:33:45.655Z"
    },
    "trusted": true
   },
   "outputs": [
    {
     "name": "stdout",
     "output_type": "stream",
     "text": [
      "Default Threshold\n",
      "**************************************************\n",
      "              precision    recall  f1-score   support\n",
      "\n",
      "    No Fraud       0.97      0.99      0.98     31995\n",
      "       Fraud       0.84      0.74      0.79      3200\n",
      "\n",
      "    accuracy                           0.96     35195\n",
      "   macro avg       0.91      0.86      0.88     35195\n",
      "weighted avg       0.96      0.96      0.96     35195\n",
      "\n",
      "Target Threshold @ 0.20\n",
      "**************************************************\n",
      "              precision    recall  f1-score   support\n",
      "\n",
      "    No Fraud       0.98      0.95      0.96     31995\n",
      "       Fraud       0.61      0.80      0.69      3200\n",
      "\n",
      "    accuracy                           0.94     35195\n",
      "   macro avg       0.80      0.87      0.83     35195\n",
      "weighted avg       0.95      0.94      0.94     35195\n",
      "\n"
     ]
    },
    {
     "data": {
      "image/png": "[encoded data removed]",
      "text/plain": [
       "<Figure size 1000x500 with 2 Axes>"
      ]
     },
     "metadata": {},
     "output_type": "display_data"
    }
   ],
   "source": [
    "# Testing final XGBoost model using the test data and calculating metrics\n",
    "xgb_final_fpr, xgb_final_tpr, xgb_final_default_recall, xgb_final_target_recall = test_classifier(xgb_final, X_test, y_test)"
   ]
  },
  {
   "cell_type": "code",
   "execution_count": 38,
   "metadata": {
    "execution": {
     "iopub.execute_input": "2025-04-06T14:24:49.703097Z",
     "iopub.status.busy": "2025-04-06T14:24:49.702715Z",
     "iopub.status.idle": "2025-04-06T14:24:49.712593Z",
     "shell.execute_reply": "2025-04-06T14:24:49.710653Z",
     "shell.execute_reply.started": "2025-04-06T14:24:49.703067Z"
    },
    "trusted": true
   },
   "outputs": [],
   "source": [
    "# Pickle the model\n",
    "import pickle\n",
    "pickle.dump(xgb_final, open('xgb_final.pkl', 'wb'))"
   ]
  },
  {
   "cell_type": "code",
   "execution_count": null,
   "metadata": {
    "trusted": true
   },
   "outputs": [],
   "source": []
  }
 ],
 "metadata": {
  "kaggle": {
   "accelerator": "none",
   "dataSources": [
    {
     "datasetId": 7062810,
     "sourceId": 11296068,
     "sourceType": "datasetVersion"
    }
   ],
   "isGpuEnabled": false,
   "isInternetEnabled": true,
   "language": "python",
   "sourceType": "notebook"
  },
  "kernelspec": {
   "display_name": ".venv",
   "language": "python",
   "name": "python3"
  },
  "language_info": {
   "codemirror_mode": {
    "name": "ipython",
    "version": 3
   },
   "file_extension": ".py",
   "mimetype": "text/x-python",
   "name": "python",
   "nbconvert_exporter": "python",
   "pygments_lexer": "ipython3",
   "version": "3.12.3"
  }
 },
 "nbformat": 4,
 "nbformat_minor": 4
}
